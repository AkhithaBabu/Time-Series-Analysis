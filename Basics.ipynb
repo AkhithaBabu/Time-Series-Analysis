{
  "nbformat": 4,
  "nbformat_minor": 0,
  "metadata": {
    "celltoolbar": "Slideshow",
    "kernelspec": {
      "display_name": "Python 3",
      "language": "python",
      "name": "python3"
    },
    "language_info": {
      "codemirror_mode": {
        "name": "ipython",
        "version": 3
      },
      "file_extension": ".py",
      "mimetype": "text/x-python",
      "name": "python",
      "nbconvert_exporter": "python",
      "pygments_lexer": "ipython3",
      "version": "3.7.4"
    },
    "colab": {
      "name": "Basics.ipynb",
      "provenance": [],
      "collapsed_sections": [
        "Ve58Jo5uiuMJ",
        "z6YFd1LQiuMK",
        "aXjnxmq5iuMm",
        "v8dEHyZziuMt",
        "FMfiG4jAiuNB",
        "dW9zAXqtiuNV",
        "_mjNmDUdiuNf",
        "vxplqWDRre_r",
        "f3nErhdTsgsD",
        "X7KXB6f7jd35",
        "kAtdN-xTjyLv",
        "aZH5IEB7MFh3",
        "tgw4YQjWMXjI",
        "jIfqZVYakElq",
        "zIVlI1bBkXx5"
      ],
      "include_colab_link": true
    }
  },
  "cells": [
    {
      "cell_type": "markdown",
      "metadata": {
        "id": "view-in-github",
        "colab_type": "text"
      },
      "source": [
        "<a href=\"https://colab.research.google.com/github/AkhithaBabu/Time-Series-Analysis/blob/master/Basics.ipynb\" target=\"_parent\"><img src=\"https://colab.research.google.com/assets/colab-badge.svg\" alt=\"Open In Colab\"/></a>"
      ]
    },
    {
      "cell_type": "markdown",
      "metadata": {
        "id": "5Ljfd4c7i5IC"
      },
      "source": [
        "# Basics of Time Series Analysis\n",
        "\n",
        "## [1. Dates & Times](https://colab.research.google.com/drive/1Nd7VvHg0kXIj0K0RPiBOCunbt7vfihDh#scrollTo=Ve58Jo5uiuMJ)\n",
        "\n",
        "## [2. Time Zone Handling](https://colab.research.google.com/drive/1Nd7VvHg0kXIj0K0RPiBOCunbt7vfihDh#scrollTo=X7KXB6f7jd35&line=1&uniqifier=1)\n",
        "\n",
        "## [3. Reading in data and making sensible data frames](https://colab.research.google.com/drive/1Nd7VvHg0kXIj0K0RPiBOCunbt7vfihDh#scrollTo=kAtdN-xTjyLv&line=1&uniqifier=1)\n",
        "\n",
        "## [4. Resampling](https://colab.research.google.com/drive/1Nd7VvHg0kXIj0K0RPiBOCunbt7vfihDh#scrollTo=jIfqZVYakElq&line=1&uniqifier=1)\n",
        "\n",
        "## [5. Moving Window Functions](https://colab.research.google.com/drive/1Nd7VvHg0kXIj0K0RPiBOCunbt7vfihDh#scrollTo=zIVlI1bBkXx5&line=1&uniqifier=1)"
      ]
    },
    {
      "cell_type": "code",
      "metadata": {
        "id": "BIdcEH_7iuMF"
      },
      "source": [
        "%matplotlib inline \n",
        "import matplotlib.pylab\n",
        "import numpy as np\n",
        "import pandas as pd\n",
        "\n",
        "from pytz import common_timezones, all_timezones\n",
        "import timeit"
      ],
      "execution_count": null,
      "outputs": []
    },
    {
      "cell_type": "markdown",
      "metadata": {
        "id": "Ve58Jo5uiuMJ"
      },
      "source": [
        "# 1. Dates & Times\n",
        "\n",
        "* [Generate series of TIMES](https://colab.research.google.com/drive/1Nd7VvHg0kXIj0K0RPiBOCunbt7vfihDh#scrollTo=z6YFd1LQiuMK)\n",
        "\n",
        "* [Different formats](https://colab.research.google.com/drive/1Nd7VvHg0kXIj0K0RPiBOCunbt7vfihDh#scrollTo=aXjnxmq5iuMm&line=7&uniqifier=1)\n",
        "\n",
        "* [TIME STAMPS](https://colab.research.google.com/drive/1Nd7VvHg0kXIj0K0RPiBOCunbt7vfihDh#scrollTo=v8dEHyZziuMt)\n",
        "\n",
        "* [TIME SPANS](https://colab.research.google.com/drive/1Nd7VvHg0kXIj0K0RPiBOCunbt7vfihDh#scrollTo=FMfiG4jAiuNB)\n",
        "\n",
        "* [Time offset](https://colab.research.google.com/drive/1Nd7VvHg0kXIj0K0RPiBOCunbt7vfihDh#scrollTo=dW9zAXqtiuNV)\n",
        "\n",
        "* [FANCY FREQUENCY SETTING](https://colab.research.google.com/drive/1Nd7VvHg0kXIj0K0RPiBOCunbt7vfihDh#scrollTo=_mjNmDUdiuNf&line=1&uniqifier=1)\n",
        "\n",
        "* [INDEXING WITH TIME OBJECTS](https://colab.research.google.com/drive/1Nd7VvHg0kXIj0K0RPiBOCunbt7vfihDh#scrollTo=f3nErhdTsgsD&line=1&uniqifier=1)"
      ]
    },
    {
      "cell_type": "markdown",
      "metadata": {
        "id": "z6YFd1LQiuMK"
      },
      "source": [
        "## Generate series of TIMES"
      ]
    },
    {
      "cell_type": "code",
      "metadata": {
        "id": "VlvlEhwFiuMK",
        "outputId": "5245bb28-654f-410e-92b0-54827bb418ec",
        "colab": {
          "base_uri": "https://localhost:8080/",
          "height": 84
        }
      },
      "source": [
        "rng = pd.date_range('2016 Jul 1', periods = 10, freq = 'D') # D-days\n",
        "rng"
      ],
      "execution_count": null,
      "outputs": [
        {
          "output_type": "execute_result",
          "data": {
            "text/plain": [
              "DatetimeIndex(['2016-07-01', '2016-07-02', '2016-07-03', '2016-07-04',\n",
              "               '2016-07-05', '2016-07-06', '2016-07-07', '2016-07-08',\n",
              "               '2016-07-09', '2016-07-10'],\n",
              "              dtype='datetime64[ns]', freq='D')"
            ]
          },
          "metadata": {
            "tags": []
          },
          "execution_count": 2
        }
      ]
    },
    {
      "cell_type": "code",
      "metadata": {
        "id": "99xBcATSiuMO",
        "outputId": "89c8096c-b2b6-42c8-d0d4-4c821d4111d9",
        "colab": {
          "base_uri": "https://localhost:8080/",
          "height": 84
        }
      },
      "source": [
        "rng = pd.date_range('2016 Jul 1', periods = 10, freq = 'M') # M-months\n",
        "rng"
      ],
      "execution_count": null,
      "outputs": [
        {
          "output_type": "execute_result",
          "data": {
            "text/plain": [
              "DatetimeIndex(['2016-07-31', '2016-08-31', '2016-09-30', '2016-10-31',\n",
              "               '2016-11-30', '2016-12-31', '2017-01-31', '2017-02-28',\n",
              "               '2017-03-31', '2017-04-30'],\n",
              "              dtype='datetime64[ns]', freq='M')"
            ]
          },
          "metadata": {
            "tags": []
          },
          "execution_count": 3
        }
      ]
    },
    {
      "cell_type": "code",
      "metadata": {
        "id": "LjdXEFrZiuMT",
        "outputId": "4c4854cf-9111-4b0c-94f2-fbfe42d0fee1",
        "colab": {
          "base_uri": "https://localhost:8080/",
          "height": 84
        }
      },
      "source": [
        "rng = pd.date_range('2016 Jul 1', periods = 10, freq = 'Y') # Y-year\n",
        "rng"
      ],
      "execution_count": null,
      "outputs": [
        {
          "output_type": "execute_result",
          "data": {
            "text/plain": [
              "DatetimeIndex(['2016-12-31', '2017-12-31', '2018-12-31', '2019-12-31',\n",
              "               '2020-12-31', '2021-12-31', '2022-12-31', '2023-12-31',\n",
              "               '2024-12-31', '2025-12-31'],\n",
              "              dtype='datetime64[ns]', freq='A-DEC')"
            ]
          },
          "metadata": {
            "tags": []
          },
          "execution_count": 4
        }
      ]
    },
    {
      "cell_type": "code",
      "metadata": {
        "id": "6CAK3guZiuMW",
        "outputId": "28700c73-6c19-47d7-dc22-298a578ac364",
        "colab": {
          "base_uri": "https://localhost:8080/",
          "height": 118
        }
      },
      "source": [
        "rng = pd.date_range('2016 Jul 1', periods = 10, freq = 'H') # H-hour\n",
        "rng"
      ],
      "execution_count": null,
      "outputs": [
        {
          "output_type": "execute_result",
          "data": {
            "text/plain": [
              "DatetimeIndex(['2016-07-01 00:00:00', '2016-07-01 01:00:00',\n",
              "               '2016-07-01 02:00:00', '2016-07-01 03:00:00',\n",
              "               '2016-07-01 04:00:00', '2016-07-01 05:00:00',\n",
              "               '2016-07-01 06:00:00', '2016-07-01 07:00:00',\n",
              "               '2016-07-01 08:00:00', '2016-07-01 09:00:00'],\n",
              "              dtype='datetime64[ns]', freq='H')"
            ]
          },
          "metadata": {
            "tags": []
          },
          "execution_count": 5
        }
      ]
    },
    {
      "cell_type": "code",
      "metadata": {
        "id": "LeFEHm1ZiuMY",
        "outputId": "87be60aa-ffca-4b8d-cff0-c8eed77e0c43",
        "colab": {
          "base_uri": "https://localhost:8080/",
          "height": 218
        }
      },
      "source": [
        "rng = pd.date_range(start='2016 Jul 1', end='2018 Jul 1', freq = '8H') # Given start and end; freq=8 hours\n",
        "rng"
      ],
      "execution_count": null,
      "outputs": [
        {
          "output_type": "execute_result",
          "data": {
            "text/plain": [
              "DatetimeIndex(['2016-07-01 00:00:00', '2016-07-01 08:00:00',\n",
              "               '2016-07-01 16:00:00', '2016-07-02 00:00:00',\n",
              "               '2016-07-02 08:00:00', '2016-07-02 16:00:00',\n",
              "               '2016-07-03 00:00:00', '2016-07-03 08:00:00',\n",
              "               '2016-07-03 16:00:00', '2016-07-04 00:00:00',\n",
              "               ...\n",
              "               '2018-06-28 00:00:00', '2018-06-28 08:00:00',\n",
              "               '2018-06-28 16:00:00', '2018-06-29 00:00:00',\n",
              "               '2018-06-29 08:00:00', '2018-06-29 16:00:00',\n",
              "               '2018-06-30 00:00:00', '2018-06-30 08:00:00',\n",
              "               '2018-06-30 16:00:00', '2018-07-01 00:00:00'],\n",
              "              dtype='datetime64[ns]', length=2191, freq='8H')"
            ]
          },
          "metadata": {
            "tags": []
          },
          "execution_count": 6
        }
      ]
    },
    {
      "cell_type": "code",
      "metadata": {
        "id": "IO0PkdKmiuMa",
        "outputId": "69fc22ec-95ec-468a-fefe-510576233c8e",
        "colab": {
          "base_uri": "https://localhost:8080/",
          "height": 118
        }
      },
      "source": [
        "rng = pd.date_range(end='2018 Jul 1', periods = 10, freq = '8H') # Given  end and period\n",
        "rng"
      ],
      "execution_count": null,
      "outputs": [
        {
          "output_type": "execute_result",
          "data": {
            "text/plain": [
              "DatetimeIndex(['2018-06-28 00:00:00', '2018-06-28 08:00:00',\n",
              "               '2018-06-28 16:00:00', '2018-06-29 00:00:00',\n",
              "               '2018-06-29 08:00:00', '2018-06-29 16:00:00',\n",
              "               '2018-06-30 00:00:00', '2018-06-30 08:00:00',\n",
              "               '2018-06-30 16:00:00', '2018-07-01 00:00:00'],\n",
              "              dtype='datetime64[ns]', freq='8H')"
            ]
          },
          "metadata": {
            "tags": []
          },
          "execution_count": 7
        }
      ]
    },
    {
      "cell_type": "code",
      "metadata": {
        "id": "DLsSNMaRiuMd",
        "outputId": "84c95aaa-4a41-4c47-aca3-d40cdd34bf93",
        "colab": {
          "base_uri": "https://localhost:8080/",
          "height": 118
        }
      },
      "source": [
        "rng = pd.date_range(start='2018 Jul 1', periods = 10, freq = '8H') # Given  end and period\n",
        "rng"
      ],
      "execution_count": null,
      "outputs": [
        {
          "output_type": "execute_result",
          "data": {
            "text/plain": [
              "DatetimeIndex(['2018-07-01 00:00:00', '2018-07-01 08:00:00',\n",
              "               '2018-07-01 16:00:00', '2018-07-02 00:00:00',\n",
              "               '2018-07-02 08:00:00', '2018-07-02 16:00:00',\n",
              "               '2018-07-03 00:00:00', '2018-07-03 08:00:00',\n",
              "               '2018-07-03 16:00:00', '2018-07-04 00:00:00'],\n",
              "              dtype='datetime64[ns]', freq='8H')"
            ]
          },
          "metadata": {
            "tags": []
          },
          "execution_count": 8
        }
      ]
    },
    {
      "cell_type": "code",
      "metadata": {
        "id": "TBJwlezEiuMg",
        "outputId": "36527d1a-4742-4200-c3f7-87fe285ad48a",
        "colab": {
          "base_uri": "https://localhost:8080/",
          "height": 118
        }
      },
      "source": [
        "rng = pd.date_range(end='2018 Jul 1', periods = 10, freq = '-8H') # Given  end and period\n",
        "rng"
      ],
      "execution_count": null,
      "outputs": [
        {
          "output_type": "execute_result",
          "data": {
            "text/plain": [
              "DatetimeIndex(['2018-07-04 00:00:00', '2018-07-03 16:00:00',\n",
              "               '2018-07-03 08:00:00', '2018-07-03 00:00:00',\n",
              "               '2018-07-02 16:00:00', '2018-07-02 08:00:00',\n",
              "               '2018-07-02 00:00:00', '2018-07-01 16:00:00',\n",
              "               '2018-07-01 08:00:00', '2018-07-01 00:00:00'],\n",
              "              dtype='datetime64[ns]', freq='-8H')"
            ]
          },
          "metadata": {
            "tags": []
          },
          "execution_count": 9
        }
      ]
    },
    {
      "cell_type": "code",
      "metadata": {
        "id": "xbKwSlUciuMi",
        "outputId": "c2e70dc0-ed0d-43f6-d6a2-4c0399da823e",
        "colab": {
          "base_uri": "https://localhost:8080/",
          "height": 118
        }
      },
      "source": [
        "rng = pd.date_range(start='2018 Jul 1', periods = 10, freq = '8H',tz=\"Asia/Hong_Kong\") # time zone\n",
        "rng"
      ],
      "execution_count": null,
      "outputs": [
        {
          "output_type": "execute_result",
          "data": {
            "text/plain": [
              "DatetimeIndex(['2018-07-01 00:00:00+08:00', '2018-07-01 08:00:00+08:00',\n",
              "               '2018-07-01 16:00:00+08:00', '2018-07-02 00:00:00+08:00',\n",
              "               '2018-07-02 08:00:00+08:00', '2018-07-02 16:00:00+08:00',\n",
              "               '2018-07-03 00:00:00+08:00', '2018-07-03 08:00:00+08:00',\n",
              "               '2018-07-03 16:00:00+08:00', '2018-07-04 00:00:00+08:00'],\n",
              "              dtype='datetime64[ns, Asia/Hong_Kong]', freq='8H')"
            ]
          },
          "metadata": {
            "tags": []
          },
          "execution_count": 10
        }
      ]
    },
    {
      "cell_type": "code",
      "metadata": {
        "id": "hBofXC2RiuMk",
        "outputId": "43c12e73-a36e-4b38-b640-39dfd0b68027",
        "colab": {
          "base_uri": "https://localhost:8080/",
          "height": 118
        }
      },
      "source": [
        "rng = pd.date_range(start='2018 Jul 1', periods = 10, freq = '8H',tz=\"Asia/Hong_Kong\", normalize=True) #normalize\n",
        "rng"
      ],
      "execution_count": null,
      "outputs": [
        {
          "output_type": "execute_result",
          "data": {
            "text/plain": [
              "DatetimeIndex(['2018-07-01 00:00:00+08:00', '2018-07-01 08:00:00+08:00',\n",
              "               '2018-07-01 16:00:00+08:00', '2018-07-02 00:00:00+08:00',\n",
              "               '2018-07-02 08:00:00+08:00', '2018-07-02 16:00:00+08:00',\n",
              "               '2018-07-03 00:00:00+08:00', '2018-07-03 08:00:00+08:00',\n",
              "               '2018-07-03 16:00:00+08:00', '2018-07-04 00:00:00+08:00'],\n",
              "              dtype='datetime64[ns, Asia/Hong_Kong]', freq='8H')"
            ]
          },
          "metadata": {
            "tags": []
          },
          "execution_count": 11
        }
      ]
    },
    {
      "cell_type": "markdown",
      "metadata": {
        "id": "aXjnxmq5iuMm"
      },
      "source": [
        "## Different formats\n",
        "\n",
        "* 2016 Jul 1\n",
        "* 7/1/2016\n",
        "* July 1, 2016\n",
        "* 2016-07-01\n",
        "* 2016/07/01"
      ]
    },
    {
      "cell_type": "markdown",
      "metadata": {
        "id": "v8dEHyZziuMt"
      },
      "source": [
        "## TIME STAMPS\n"
      ]
    },
    {
      "cell_type": "code",
      "metadata": {
        "id": "U5XMhry0iuMu",
        "outputId": "66747f39-304e-4f1b-e3c0-05d6f06b8635",
        "colab": {
          "base_uri": "https://localhost:8080/",
          "height": 34
        }
      },
      "source": [
        "pd.Timestamp('2016-07-10') # Date"
      ],
      "execution_count": null,
      "outputs": [
        {
          "output_type": "execute_result",
          "data": {
            "text/plain": [
              "Timestamp('2016-07-10 00:00:00')"
            ]
          },
          "metadata": {
            "tags": []
          },
          "execution_count": 15
        }
      ]
    },
    {
      "cell_type": "code",
      "metadata": {
        "id": "6hiUyUG4iuMw",
        "outputId": "d2989a29-afb3-4f78-9c2e-5192c84b131d",
        "colab": {
          "base_uri": "https://localhost:8080/",
          "height": 34
        }
      },
      "source": [
        "pd.Timestamp('2016-07-10 10') # Date with time # hr"
      ],
      "execution_count": null,
      "outputs": [
        {
          "output_type": "execute_result",
          "data": {
            "text/plain": [
              "Timestamp('2016-07-10 10:00:00')"
            ]
          },
          "metadata": {
            "tags": []
          },
          "execution_count": 16
        }
      ]
    },
    {
      "cell_type": "code",
      "metadata": {
        "id": "O4NzycJ4iuMy",
        "outputId": "a4844130-c03e-41d4-a0c8-ca3800f06a8b",
        "colab": {
          "base_uri": "https://localhost:8080/",
          "height": 34
        }
      },
      "source": [
        "pd.Timestamp('2016-07-10 10:15.56586946547999') # Date with time # hr,min,sec,...."
      ],
      "execution_count": null,
      "outputs": [
        {
          "output_type": "execute_result",
          "data": {
            "text/plain": [
              "Timestamp('2016-07-10 10:15:33')"
            ]
          },
          "metadata": {
            "tags": []
          },
          "execution_count": 17
        }
      ]
    },
    {
      "cell_type": "markdown",
      "metadata": {
        "id": "EncCe5whqZOZ"
      },
      "source": [
        "[Some properties of timestamps](https://pandas.pydata.org/pandas-docs/stable/user_guide/timeseries.html) #time-date-components"
      ]
    },
    {
      "cell_type": "code",
      "metadata": {
        "id": "qw4J87d7iuM7",
        "outputId": "c7e55f7e-61c9-4369-dc6a-5da615edd02e",
        "colab": {
          "base_uri": "https://localhost:8080/",
          "height": 34
        }
      },
      "source": [
        "t = pd.Timestamp('2016-07-10 10:15')\n",
        "t.quarter"
      ],
      "execution_count": null,
      "outputs": [
        {
          "output_type": "execute_result",
          "data": {
            "text/plain": [
              "3"
            ]
          },
          "metadata": {
            "tags": []
          },
          "execution_count": 20
        }
      ]
    },
    {
      "cell_type": "code",
      "metadata": {
        "id": "Yp39-3HqiuM-",
        "outputId": "2876636a-baa9-48e6-bd89-6083813e275e",
        "colab": {
          "base_uri": "https://localhost:8080/",
          "height": 34
        }
      },
      "source": [
        "t.dayofweek"
      ],
      "execution_count": null,
      "outputs": [
        {
          "output_type": "execute_result",
          "data": {
            "text/plain": [
              "6"
            ]
          },
          "metadata": {
            "tags": []
          },
          "execution_count": 21
        }
      ]
    },
    {
      "cell_type": "markdown",
      "metadata": {
        "id": "FMfiG4jAiuNB"
      },
      "source": [
        "## TIME SPANS"
      ]
    },
    {
      "cell_type": "code",
      "metadata": {
        "id": "o2K1rtJ8iuNB",
        "outputId": "90dd620c-003e-477d-bc4d-b588d4a31177",
        "colab": {
          "base_uri": "https://localhost:8080/",
          "height": 34
        }
      },
      "source": [
        "pd.Period('2016-01')"
      ],
      "execution_count": null,
      "outputs": [
        {
          "output_type": "execute_result",
          "data": {
            "text/plain": [
              "Period('2016-01', 'M')"
            ]
          },
          "metadata": {
            "tags": []
          },
          "execution_count": 22
        }
      ]
    },
    {
      "cell_type": "code",
      "metadata": {
        "id": "c_tafyVYiuNI",
        "outputId": "a94e71ce-33ba-403c-d3cd-a3ada6cb72a3",
        "colab": {
          "base_uri": "https://localhost:8080/",
          "height": 34
        }
      },
      "source": [
        "pd.Period('2016-01-01')"
      ],
      "execution_count": null,
      "outputs": [
        {
          "output_type": "execute_result",
          "data": {
            "text/plain": [
              "Period('2016-01-01', 'D')"
            ]
          },
          "metadata": {
            "tags": []
          },
          "execution_count": 24
        }
      ]
    },
    {
      "cell_type": "code",
      "metadata": {
        "id": "cHsjVIOpiuNL",
        "outputId": "0290de2a-2a86-4143-8ab9-e10bcb174adc",
        "colab": {
          "base_uri": "https://localhost:8080/",
          "height": 34
        }
      },
      "source": [
        "pd.Period('2016-01-01 10')"
      ],
      "execution_count": null,
      "outputs": [
        {
          "output_type": "execute_result",
          "data": {
            "text/plain": [
              "Period('2016-01-01 10:00', 'H')"
            ]
          },
          "metadata": {
            "tags": []
          },
          "execution_count": 25
        }
      ]
    },
    {
      "cell_type": "code",
      "metadata": {
        "id": "FjquA_teiuNN",
        "outputId": "3a4362b0-9bc6-4536-b58c-d6136318e8a9",
        "colab": {
          "base_uri": "https://localhost:8080/",
          "height": 34
        }
      },
      "source": [
        "pd.Period('2016-01-01 10:10')"
      ],
      "execution_count": null,
      "outputs": [
        {
          "output_type": "execute_result",
          "data": {
            "text/plain": [
              "Period('2016-01-01 10:10', 'T')"
            ]
          },
          "metadata": {
            "tags": []
          },
          "execution_count": 26
        }
      ]
    },
    {
      "cell_type": "code",
      "metadata": {
        "id": "w4usmGltiuNP",
        "outputId": "fb89a00c-b612-4eba-f58e-1967b3962f16",
        "colab": {
          "base_uri": "https://localhost:8080/",
          "height": 34
        }
      },
      "source": [
        "pd.Period('2016-01-01 10:10:10')"
      ],
      "execution_count": null,
      "outputs": [
        {
          "output_type": "execute_result",
          "data": {
            "text/plain": [
              "Period('2016-01-01 10:10:10', 'S')"
            ]
          },
          "metadata": {
            "tags": []
          },
          "execution_count": 27
        }
      ]
    },
    {
      "cell_type": "markdown",
      "metadata": {
        "id": "KxVc89MyrEzE"
      },
      "source": [
        "To multiple time periods, look for analogy with ```pd.date_range()``` above"
      ]
    },
    {
      "cell_type": "markdown",
      "metadata": {
        "id": "dW9zAXqtiuNV"
      },
      "source": [
        "## Time offset"
      ]
    },
    {
      "cell_type": "code",
      "metadata": {
        "id": "8EK58CawiuNX",
        "outputId": "8579e31d-3c80-4513-ab55-66a65d2f5130",
        "colab": {
          "base_uri": "https://localhost:8080/",
          "height": 34
        }
      },
      "source": [
        "pd.Timedelta('1 day')"
      ],
      "execution_count": null,
      "outputs": [
        {
          "output_type": "execute_result",
          "data": {
            "text/plain": [
              "Timedelta('1 days 00:00:00')"
            ]
          },
          "metadata": {
            "tags": []
          },
          "execution_count": 30
        }
      ]
    },
    {
      "cell_type": "code",
      "metadata": {
        "id": "7tmHWAbLiuNa",
        "outputId": "3d121861-79ea-40ea-b876-954bbf1d88d9",
        "colab": {
          "base_uri": "https://localhost:8080/",
          "height": 34
        }
      },
      "source": [
        "pd.Period('2016-01-01 10:10') + pd.Timedelta('1 day')"
      ],
      "execution_count": null,
      "outputs": [
        {
          "output_type": "execute_result",
          "data": {
            "text/plain": [
              "Period('2016-01-02 10:10', 'T')"
            ]
          },
          "metadata": {
            "tags": []
          },
          "execution_count": 31
        }
      ]
    },
    {
      "cell_type": "code",
      "metadata": {
        "id": "VGHGK4s2iuNc",
        "outputId": "1492999f-75b3-49f1-c3fb-390bf9a7bed1",
        "colab": {
          "base_uri": "https://localhost:8080/",
          "height": 34
        }
      },
      "source": [
        "pd.Timestamp('2016-01-01 10:10') + pd.Timedelta('1 day')"
      ],
      "execution_count": null,
      "outputs": [
        {
          "output_type": "execute_result",
          "data": {
            "text/plain": [
              "Timestamp('2016-01-02 10:10:00')"
            ]
          },
          "metadata": {
            "tags": []
          },
          "execution_count": 32
        }
      ]
    },
    {
      "cell_type": "code",
      "metadata": {
        "id": "GGMXmI4oiuNe",
        "outputId": "b47b1a36-b2e8-492a-abc9-af88a2b4d169",
        "colab": {
          "base_uri": "https://localhost:8080/",
          "height": 34
        }
      },
      "source": [
        "pd.Timestamp('2016-01-01 10:10') + pd.Timedelta('15 ns')"
      ],
      "execution_count": null,
      "outputs": [
        {
          "output_type": "execute_result",
          "data": {
            "text/plain": [
              "Timestamp('2016-01-01 10:10:00.000000015')"
            ]
          },
          "metadata": {
            "tags": []
          },
          "execution_count": 33
        }
      ]
    },
    {
      "cell_type": "markdown",
      "metadata": {
        "id": "_mjNmDUdiuNf"
      },
      "source": [
        "## FANCY FREQUENCY SETTING"
      ]
    },
    {
      "cell_type": "code",
      "metadata": {
        "id": "1H3dQs4piuNg",
        "outputId": "e5d1e7c0-9a43-4b13-dfa2-bc4eedbc2df0",
        "colab": {
          "base_uri": "https://localhost:8080/",
          "height": 84
        }
      },
      "source": [
        "pd.period_range('2016-01-01 10:10', freq = 'B', periods = 10) # business days"
      ],
      "execution_count": null,
      "outputs": [
        {
          "output_type": "execute_result",
          "data": {
            "text/plain": [
              "PeriodIndex(['2016-01-01', '2016-01-04', '2016-01-05', '2016-01-06',\n",
              "             '2016-01-07', '2016-01-08', '2016-01-11', '2016-01-12',\n",
              "             '2016-01-13', '2016-01-14'],\n",
              "            dtype='period[B]', freq='B')"
            ]
          },
          "metadata": {
            "tags": []
          },
          "execution_count": 34
        }
      ]
    },
    {
      "cell_type": "markdown",
      "metadata": {
        "id": "vxplqWDRre_r"
      },
      "source": [
        "### [Combine Frequencies](http://pandas.pydata.org/pandas-docs/stable/timeseries.html#offset-aliases) \n",
        "\n",
        "What if you want to advance by 25 hours each day?"
      ]
    },
    {
      "cell_type": "code",
      "metadata": {
        "id": "ZiNySvOfiuNi",
        "outputId": "839892fc-352f-40e3-ab60-ffff1c23309d",
        "colab": {
          "base_uri": "https://localhost:8080/",
          "height": 101
        }
      },
      "source": [
        "# Method 1\n",
        "p1 = pd.period_range('2016-01-01 10:10', freq = '25H', periods = 10)\n",
        "p1"
      ],
      "execution_count": null,
      "outputs": [
        {
          "output_type": "execute_result",
          "data": {
            "text/plain": [
              "PeriodIndex(['2016-01-01 10:00', '2016-01-02 11:00', '2016-01-03 12:00',\n",
              "             '2016-01-04 13:00', '2016-01-05 14:00', '2016-01-06 15:00',\n",
              "             '2016-01-07 16:00', '2016-01-08 17:00', '2016-01-09 18:00',\n",
              "             '2016-01-10 19:00'],\n",
              "            dtype='period[25H]', freq='25H')"
            ]
          },
          "metadata": {
            "tags": []
          },
          "execution_count": 35
        }
      ]
    },
    {
      "cell_type": "code",
      "metadata": {
        "id": "4_RodIKbiuNk",
        "outputId": "843a73bb-5e5b-43e9-cddb-e7ce1c12ca83",
        "colab": {
          "base_uri": "https://localhost:8080/",
          "height": 101
        }
      },
      "source": [
        "# Method 1\n",
        "p2 = pd.period_range('2016-01-01 10:10', freq = '1D1H', periods = 10)\n",
        "p2"
      ],
      "execution_count": null,
      "outputs": [
        {
          "output_type": "execute_result",
          "data": {
            "text/plain": [
              "PeriodIndex(['2016-01-01 10:00', '2016-01-02 11:00', '2016-01-03 12:00',\n",
              "             '2016-01-04 13:00', '2016-01-05 14:00', '2016-01-06 15:00',\n",
              "             '2016-01-07 16:00', '2016-01-08 17:00', '2016-01-09 18:00',\n",
              "             '2016-01-10 19:00'],\n",
              "            dtype='period[25H]', freq='25H')"
            ]
          },
          "metadata": {
            "tags": []
          },
          "execution_count": 87
        }
      ]
    },
    {
      "cell_type": "markdown",
      "metadata": {
        "id": "f3nErhdTsgsD"
      },
      "source": [
        "## INDEXING WITH TIME OBJECTS"
      ]
    },
    {
      "cell_type": "code",
      "metadata": {
        "id": "qXMvwAehiuNo",
        "outputId": "3884c5db-a39d-4e93-fb7d-b4681a349ca5",
        "colab": {
          "base_uri": "https://localhost:8080/",
          "height": 202
        }
      },
      "source": [
        "rng = pd.date_range('2016 Jul 1', periods = 10, freq = 'D') # using a date range as above\n",
        "pd.Series(range(len(rng)), index = rng)"
      ],
      "execution_count": null,
      "outputs": [
        {
          "output_type": "execute_result",
          "data": {
            "text/plain": [
              "2016-07-01    0\n",
              "2016-07-02    1\n",
              "2016-07-03    2\n",
              "2016-07-04    3\n",
              "2016-07-05    4\n",
              "2016-07-06    5\n",
              "2016-07-07    6\n",
              "2016-07-08    7\n",
              "2016-07-09    8\n",
              "2016-07-10    9\n",
              "Freq: D, dtype: int64"
            ]
          },
          "metadata": {
            "tags": []
          },
          "execution_count": 38
        }
      ]
    },
    {
      "cell_type": "code",
      "metadata": {
        "id": "Y2GUGjnNiuNr",
        "outputId": "fffaba49-8d72-489b-88cb-30e56fe64cef",
        "colab": {
          "base_uri": "https://localhost:8080/",
          "height": 84
        }
      },
      "source": [
        "periods = [pd.Period('2016-01'), pd.Period('2016-02'), pd.Period('2016-03')] # time period indices # index as a time span rather than a single point in time\n",
        "ts = pd.Series(np.random.randn(len(periods)), index = periods)\n",
        "ts"
      ],
      "execution_count": null,
      "outputs": [
        {
          "output_type": "execute_result",
          "data": {
            "text/plain": [
              "2016-01    0.397830\n",
              "2016-02   -0.633915\n",
              "2016-03    1.084826\n",
              "Freq: M, dtype: float64"
            ]
          },
          "metadata": {
            "tags": []
          },
          "execution_count": 89
        }
      ]
    },
    {
      "cell_type": "code",
      "metadata": {
        "id": "BTBLgXrGiuNt",
        "outputId": "9e46f022-fc71-4685-edd3-60d1f6d6b46f",
        "colab": {
          "base_uri": "https://localhost:8080/",
          "height": 34
        }
      },
      "source": [
        "type(ts.index)"
      ],
      "execution_count": null,
      "outputs": [
        {
          "output_type": "execute_result",
          "data": {
            "text/plain": [
              "pandas.core.indexes.period.PeriodIndex"
            ]
          },
          "metadata": {
            "tags": []
          },
          "execution_count": 40
        }
      ]
    },
    {
      "cell_type": "code",
      "metadata": {
        "id": "6ScayvpaiuNw",
        "outputId": "dc3b64d0-0dd5-41ae-89b4-67c734ec067b",
        "colab": {
          "base_uri": "https://localhost:8080/",
          "height": 84
        }
      },
      "source": [
        "ts['2016']"
      ],
      "execution_count": null,
      "outputs": [
        {
          "output_type": "execute_result",
          "data": {
            "text/plain": [
              "2016-01    0.397830\n",
              "2016-02   -0.633915\n",
              "2016-03    1.084826\n",
              "Freq: M, dtype: float64"
            ]
          },
          "metadata": {
            "tags": []
          },
          "execution_count": 92
        }
      ]
    },
    {
      "cell_type": "code",
      "metadata": {
        "id": "_mmvNy5tiuNy",
        "outputId": "7a107100-060e-4a94-af1f-808e989da527",
        "colab": {
          "base_uri": "https://localhost:8080/",
          "height": 202
        }
      },
      "source": [
        "# Timestamped data can be convereted to period indices with to_period and vice versa with to_timestamp\n",
        "ts = pd.Series(range(10), pd.date_range('07-10-16 8:00', periods = 10, freq = 'H'))\n",
        "ts"
      ],
      "execution_count": null,
      "outputs": [
        {
          "output_type": "execute_result",
          "data": {
            "text/plain": [
              "2016-07-10 08:00:00    0\n",
              "2016-07-10 09:00:00    1\n",
              "2016-07-10 10:00:00    2\n",
              "2016-07-10 11:00:00    3\n",
              "2016-07-10 12:00:00    4\n",
              "2016-07-10 13:00:00    5\n",
              "2016-07-10 14:00:00    6\n",
              "2016-07-10 15:00:00    7\n",
              "2016-07-10 16:00:00    8\n",
              "2016-07-10 17:00:00    9\n",
              "Freq: H, dtype: int64"
            ]
          },
          "metadata": {
            "tags": []
          },
          "execution_count": 42
        }
      ]
    },
    {
      "cell_type": "code",
      "metadata": {
        "id": "BGGjDenaiuN0",
        "outputId": "69815e94-5a16-457d-d671-2d57d2064123",
        "colab": {
          "base_uri": "https://localhost:8080/",
          "height": 202
        }
      },
      "source": [
        "ts_period = ts.to_period() # Timestamped data convereted to period indices with to_period\n",
        "ts_period"
      ],
      "execution_count": null,
      "outputs": [
        {
          "output_type": "execute_result",
          "data": {
            "text/plain": [
              "2016-07-10 08:00    0\n",
              "2016-07-10 09:00    1\n",
              "2016-07-10 10:00    2\n",
              "2016-07-10 11:00    3\n",
              "2016-07-10 12:00    4\n",
              "2016-07-10 13:00    5\n",
              "2016-07-10 14:00    6\n",
              "2016-07-10 15:00    7\n",
              "2016-07-10 16:00    8\n",
              "2016-07-10 17:00    9\n",
              "Freq: H, dtype: int64"
            ]
          },
          "metadata": {
            "tags": []
          },
          "execution_count": 43
        }
      ]
    },
    {
      "cell_type": "code",
      "metadata": {
        "id": "bPkewaM2iuN2",
        "outputId": "91b267e2-563e-4952-a30b-9cdd1ce0090d",
        "colab": {
          "base_uri": "https://localhost:8080/",
          "height": 101
        }
      },
      "source": [
        "ts_period['2016-07-10 08:30':'2016-07-10 11:45'] # the concept of overlap with time periods"
      ],
      "execution_count": null,
      "outputs": [
        {
          "output_type": "execute_result",
          "data": {
            "text/plain": [
              "2016-07-10 08:00    0\n",
              "2016-07-10 09:00    1\n",
              "2016-07-10 10:00    2\n",
              "2016-07-10 11:00    3\n",
              "Freq: H, dtype: int64"
            ]
          },
          "metadata": {
            "tags": []
          },
          "execution_count": 44
        }
      ]
    },
    {
      "cell_type": "code",
      "metadata": {
        "id": "13WM7UM3iuN4",
        "outputId": "ab2224b0-6f37-42a8-bd92-6b32b27dcdda",
        "colab": {
          "base_uri": "https://localhost:8080/",
          "height": 84
        }
      },
      "source": [
        "ts['2016-07-10 08:30':'2016-07-10 11:45'] # the concept of include with timestamps"
      ],
      "execution_count": null,
      "outputs": [
        {
          "output_type": "execute_result",
          "data": {
            "text/plain": [
              "2016-07-10 09:00:00    1\n",
              "2016-07-10 10:00:00    2\n",
              "2016-07-10 11:00:00    3\n",
              "Freq: H, dtype: int64"
            ]
          },
          "metadata": {
            "tags": []
          },
          "execution_count": 45
        }
      ]
    },
    {
      "cell_type": "markdown",
      "metadata": {
        "id": "X7KXB6f7jd35"
      },
      "source": [
        "# 2. Time Zone Handling"
      ]
    },
    {
      "cell_type": "code",
      "metadata": {
        "id": "3GyLK6gIkvzc"
      },
      "source": [
        "rng = pd.date_range('3/6/2012 00:00', periods = 15, freq = 'D')\n",
        "rng.tz"
      ],
      "execution_count": null,
      "outputs": []
    },
    {
      "cell_type": "code",
      "metadata": {
        "id": "GK3wmOKokv1_",
        "outputId": "3d90617b-aaea-4902-eb75-cf3a95414717",
        "colab": {
          "base_uri": "https://localhost:8080/",
          "height": 34
        }
      },
      "source": [
        "rng_tz = pd.date_range('3/6/2012 00:00', periods = 15, freq = 'D', tz = 'Europe/London')\n",
        "rng_tz.tz"
      ],
      "execution_count": null,
      "outputs": [
        {
          "output_type": "execute_result",
          "data": {
            "text/plain": [
              "<DstTzInfo 'Europe/London' LMT-1 day, 23:59:00 STD>"
            ]
          },
          "metadata": {
            "tags": []
          },
          "execution_count": 47
        }
      ]
    },
    {
      "cell_type": "code",
      "metadata": {
        "id": "DcC5eMNjkv4m",
        "outputId": "101a8d51-191a-4e5e-b8c3-39eb9d927391",
        "colab": {
          "base_uri": "https://localhost:8080/",
          "height": 87
        }
      },
      "source": [
        "print(len(common_timezones))\n",
        "print(len(all_timezones))\n",
        "print(set(all_timezones) - set(common_timezones))"
      ],
      "execution_count": null,
      "outputs": [
        {
          "output_type": "stream",
          "text": [
            "440\n",
            "592\n",
            "{'America/Santa_Isabel', 'Etc/GMT+5', 'Atlantic/Faeroe', 'Asia/Dacca', 'PST8PDT', 'Europe/Tiraspol', 'MET', 'Etc/GMT+1', 'Asia/Chongqing', 'Jamaica', 'Chile/EasterIsland', 'HST', 'Europe/Belfast', 'Mexico/General', 'Antarctica/South_Pole', 'Etc/GMT+10', 'Etc/GMT', 'Etc/GMT-10', 'Etc/GMT-13', 'Turkey', 'Australia/West', 'Atlantic/Jan_Mayen', 'Australia/Canberra', 'Asia/Saigon', 'US/Aleutian', 'America/Cordoba', 'Etc/GMT-1', 'Japan', 'Africa/Asmera', 'Etc/UCT', 'Australia/LHI', 'Brazil/West', 'America/Catamarca', 'Etc/GMT-14', 'GMT-0', 'Etc/Universal', 'Pacific/Johnston', 'Pacific/Ponape', 'Etc/GMT-12', 'Portugal', 'Universal', 'Asia/Tel_Aviv', 'Etc/GMT-11', 'Hongkong', 'Pacific/Truk', 'Asia/Calcutta', 'US/Samoa', 'America/Virgin', 'America/Porto_Acre', 'GB', 'Etc/GMT+7', 'America/Mendoza', 'Navajo', 'Etc/GMT+12', 'Cuba', 'Etc/UTC', 'America/Rosario', 'America/Buenos_Aires', 'Etc/GMT-8', 'Etc/GMT-2', 'Mexico/BajaSur', 'Asia/Istanbul', 'America/Knox_IN', 'Greenwich', 'America/Ensenada', 'Etc/GMT+6', 'Etc/GMT-0', 'Australia/North', 'Etc/Zulu', 'Etc/GMT+3', 'Singapore', 'Etc/GMT+0', 'Israel', 'EST5EDT', 'Etc/GMT-7', 'US/East-Indiana', 'US/Michigan', 'Etc/GMT+11', 'Etc/GMT-5', 'Brazil/East', 'Chile/Continental', 'W-SU', 'Iceland', 'Canada/Saskatchewan', 'America/Indianapolis', 'Australia/NSW', 'America/Atka', 'America/Montreal', 'Asia/Macao', 'Kwajalein', 'Poland', 'Asia/Ashkhabad', 'CET', 'ROC', 'Libya', 'Etc/GMT-9', 'MST7MDT', 'Asia/Harbin', 'Asia/Ujung_Pandang', 'America/Argentina/ComodRivadavia', 'GMT+0', 'America/Coral_Harbour', 'Iran', 'ROK', 'Pacific/Yap', 'Eire', 'UCT', 'Asia/Ulan_Bator', 'Asia/Kashgar', 'Asia/Chungking', 'Mexico/BajaNorte', 'Brazil/DeNoronha', 'Etc/GMT+2', 'MST', 'EST', 'Asia/Thimbu', 'Australia/ACT', 'NZ', 'Etc/GMT0', 'Asia/Rangoon', 'Egypt', 'GMT0', 'Australia/Victoria', 'Canada/Yukon', 'Australia/Queensland', 'America/Shiprock', 'PRC', 'America/Louisville', 'Etc/GMT-4', 'Africa/Timbuktu', 'Asia/Katmandu', 'America/Jujuy', 'Etc/GMT-6', 'Zulu', 'US/Indiana-Starke', 'WET', 'EET', 'Pacific/Samoa', 'America/Fort_Wayne', 'GB-Eire', 'Etc/GMT-3', 'Etc/GMT+8', 'Brazil/Acre', 'Australia/Yancowinna', 'Etc/Greenwich', 'CST6CDT', 'Australia/Tasmania', 'Etc/GMT+9', 'Europe/Nicosia', 'NZ-CHAT', 'Etc/GMT+4', 'Australia/South'}\n"
          ],
          "name": "stdout"
        }
      ]
    },
    {
      "cell_type": "code",
      "metadata": {
        "id": "3nI-hWuAkv7c",
        "outputId": "019afd74-f1fc-44e8-e27f-90dd444445bb",
        "colab": {
          "base_uri": "https://localhost:8080/",
          "height": 34
        }
      },
      "source": [
        "t_naive = pd.Timestamp('2016-07-10 08:50') # localize a naive timestamp\n",
        "t_naive"
      ],
      "execution_count": null,
      "outputs": [
        {
          "output_type": "execute_result",
          "data": {
            "text/plain": [
              "Timestamp('2016-07-10 08:50:00')"
            ]
          },
          "metadata": {
            "tags": []
          },
          "execution_count": 49
        }
      ]
    },
    {
      "cell_type": "code",
      "metadata": {
        "id": "DmB5YJ91kv9q",
        "outputId": "6460e7e3-ba59-4eb8-fcfc-09aaba6b9515",
        "colab": {
          "base_uri": "https://localhost:8080/",
          "height": 34
        }
      },
      "source": [
        "t = t_naive.tz_localize(tz = 'US/Central')\n",
        "t"
      ],
      "execution_count": null,
      "outputs": [
        {
          "output_type": "execute_result",
          "data": {
            "text/plain": [
              "Timestamp('2016-07-10 08:50:00-0500', tz='US/Central')"
            ]
          },
          "metadata": {
            "tags": []
          },
          "execution_count": 50
        }
      ]
    },
    {
      "cell_type": "code",
      "metadata": {
        "id": "JFrPjnyIkwA-",
        "outputId": "dca42a8d-d450-402f-eed9-a04503fb9ddc",
        "colab": {
          "base_uri": "https://localhost:8080/",
          "height": 34
        }
      },
      "source": [
        "t.tz_convert('Asia/Tokyo')"
      ],
      "execution_count": null,
      "outputs": [
        {
          "output_type": "execute_result",
          "data": {
            "text/plain": [
              "Timestamp('2016-07-10 22:50:00+0900', tz='Asia/Tokyo')"
            ]
          },
          "metadata": {
            "tags": []
          },
          "execution_count": 51
        }
      ]
    },
    {
      "cell_type": "code",
      "metadata": {
        "id": "ev5Bpz_ykwDx",
        "outputId": "7c4888e3-3b08-4dd2-e1e0-a632ff6e3e0c",
        "colab": {
          "base_uri": "https://localhost:8080/",
          "height": 202
        }
      },
      "source": [
        "# handle daylight savings\n",
        "rng = pd.date_range('2016-03-10', periods=10, tz='US/Central')\n",
        "ts = pd.Series(range(10), index=rng)\n",
        "ts"
      ],
      "execution_count": null,
      "outputs": [
        {
          "output_type": "execute_result",
          "data": {
            "text/plain": [
              "2016-03-10 00:00:00-06:00    0\n",
              "2016-03-11 00:00:00-06:00    1\n",
              "2016-03-12 00:00:00-06:00    2\n",
              "2016-03-13 00:00:00-06:00    3\n",
              "2016-03-14 00:00:00-05:00    4\n",
              "2016-03-15 00:00:00-05:00    5\n",
              "2016-03-16 00:00:00-05:00    6\n",
              "2016-03-17 00:00:00-05:00    7\n",
              "2016-03-18 00:00:00-05:00    8\n",
              "2016-03-19 00:00:00-05:00    9\n",
              "Freq: D, dtype: int64"
            ]
          },
          "metadata": {
            "tags": []
          },
          "execution_count": 52
        }
      ]
    },
    {
      "cell_type": "code",
      "metadata": {
        "id": "aauFeEdIkwVf",
        "outputId": "05c2cec2-8174-45b1-e90b-2cf3d295e81c",
        "colab": {
          "base_uri": "https://localhost:8080/",
          "height": 202
        }
      },
      "source": [
        "rng = pd.date_range('2016-03-10', periods=10, tz='utc')\n",
        "ts = pd.Series(range(10), index=rng)\n",
        "ts"
      ],
      "execution_count": null,
      "outputs": [
        {
          "output_type": "execute_result",
          "data": {
            "text/plain": [
              "2016-03-10 00:00:00+00:00    0\n",
              "2016-03-11 00:00:00+00:00    1\n",
              "2016-03-12 00:00:00+00:00    2\n",
              "2016-03-13 00:00:00+00:00    3\n",
              "2016-03-14 00:00:00+00:00    4\n",
              "2016-03-15 00:00:00+00:00    5\n",
              "2016-03-16 00:00:00+00:00    6\n",
              "2016-03-17 00:00:00+00:00    7\n",
              "2016-03-18 00:00:00+00:00    8\n",
              "2016-03-19 00:00:00+00:00    9\n",
              "Freq: D, dtype: int64"
            ]
          },
          "metadata": {
            "tags": []
          },
          "execution_count": 53
        }
      ]
    },
    {
      "cell_type": "code",
      "metadata": {
        "id": "t8N5Dih3lDvw",
        "outputId": "7bae9f5c-36af-4b8e-a999-ff5d41e444a6",
        "colab": {
          "base_uri": "https://localhost:8080/",
          "height": 202
        }
      },
      "source": [
        "ts.tz_convert('US/Central')"
      ],
      "execution_count": null,
      "outputs": [
        {
          "output_type": "execute_result",
          "data": {
            "text/plain": [
              "2016-03-09 18:00:00-06:00    0\n",
              "2016-03-10 18:00:00-06:00    1\n",
              "2016-03-11 18:00:00-06:00    2\n",
              "2016-03-12 18:00:00-06:00    3\n",
              "2016-03-13 19:00:00-05:00    4\n",
              "2016-03-14 19:00:00-05:00    5\n",
              "2016-03-15 19:00:00-05:00    6\n",
              "2016-03-16 19:00:00-05:00    7\n",
              "2016-03-17 19:00:00-05:00    8\n",
              "2016-03-18 19:00:00-05:00    9\n",
              "Freq: D, dtype: int64"
            ]
          },
          "metadata": {
            "tags": []
          },
          "execution_count": 54
        }
      ]
    },
    {
      "cell_type": "code",
      "metadata": {
        "id": "xAeHRZQXlDzP",
        "outputId": "ab6f3881-0110-45ce-b26f-faf38e3a680f",
        "colab": {
          "base_uri": "https://localhost:8080/",
          "height": 134
        }
      },
      "source": [
        "pd.date_range('03-12-2016 22:00', periods = 12, freq = 'H', tz = 'US/Eastern')"
      ],
      "execution_count": null,
      "outputs": [
        {
          "output_type": "execute_result",
          "data": {
            "text/plain": [
              "DatetimeIndex(['2016-03-12 22:00:00-05:00', '2016-03-12 23:00:00-05:00',\n",
              "               '2016-03-13 00:00:00-05:00', '2016-03-13 01:00:00-05:00',\n",
              "               '2016-03-13 03:00:00-04:00', '2016-03-13 04:00:00-04:00',\n",
              "               '2016-03-13 05:00:00-04:00', '2016-03-13 06:00:00-04:00',\n",
              "               '2016-03-13 07:00:00-04:00', '2016-03-13 08:00:00-04:00',\n",
              "               '2016-03-13 09:00:00-04:00', '2016-03-13 10:00:00-04:00'],\n",
              "              dtype='datetime64[ns, US/Eastern]', freq='H')"
            ]
          },
          "metadata": {
            "tags": []
          },
          "execution_count": 55
        }
      ]
    },
    {
      "cell_type": "markdown",
      "metadata": {
        "id": "kAtdN-xTjyLv"
      },
      "source": [
        "#3. Reading in data and making sensible data frames"
      ]
    },
    {
      "cell_type": "code",
      "metadata": {
        "id": "iXs8lvMXlWJG"
      },
      "source": [
        "data = pd.read_fwf(\"http://www.cpc.ncep.noaa.gov/products/precip/CWlink/daily_ao_index/monthly.ao.index.b50.current.ascii\", parse_dates = [[0, 1]], infer_datetime_format = True, header = None,)"
      ],
      "execution_count": null,
      "outputs": []
    },
    {
      "cell_type": "code",
      "metadata": {
        "id": "Z4Qj0lDClWMD",
        "outputId": "04aa760d-235b-4fbd-d1eb-0e3aea70736d",
        "colab": {
          "base_uri": "https://localhost:8080/",
          "height": 195
        }
      },
      "source": [
        "data.head()"
      ],
      "execution_count": null,
      "outputs": [
        {
          "output_type": "execute_result",
          "data": {
            "text/html": [
              "<div>\n",
              "<style scoped>\n",
              "    .dataframe tbody tr th:only-of-type {\n",
              "        vertical-align: middle;\n",
              "    }\n",
              "\n",
              "    .dataframe tbody tr th {\n",
              "        vertical-align: top;\n",
              "    }\n",
              "\n",
              "    .dataframe thead th {\n",
              "        text-align: right;\n",
              "    }\n",
              "</style>\n",
              "<table border=\"1\" class=\"dataframe\">\n",
              "  <thead>\n",
              "    <tr style=\"text-align: right;\">\n",
              "      <th></th>\n",
              "      <th>0_1</th>\n",
              "      <th>2</th>\n",
              "    </tr>\n",
              "  </thead>\n",
              "  <tbody>\n",
              "    <tr>\n",
              "      <th>0</th>\n",
              "      <td>1950-01-01</td>\n",
              "      <td>-0.060310</td>\n",
              "    </tr>\n",
              "    <tr>\n",
              "      <th>1</th>\n",
              "      <td>1950-02-01</td>\n",
              "      <td>0.626810</td>\n",
              "    </tr>\n",
              "    <tr>\n",
              "      <th>2</th>\n",
              "      <td>1950-03-01</td>\n",
              "      <td>-0.008128</td>\n",
              "    </tr>\n",
              "    <tr>\n",
              "      <th>3</th>\n",
              "      <td>1950-04-01</td>\n",
              "      <td>0.555100</td>\n",
              "    </tr>\n",
              "    <tr>\n",
              "      <th>4</th>\n",
              "      <td>1950-05-01</td>\n",
              "      <td>0.071577</td>\n",
              "    </tr>\n",
              "  </tbody>\n",
              "</table>\n",
              "</div>"
            ],
            "text/plain": [
              "         0_1         2\n",
              "0 1950-01-01 -0.060310\n",
              "1 1950-02-01  0.626810\n",
              "2 1950-03-01 -0.008128\n",
              "3 1950-04-01  0.555100\n",
              "4 1950-05-01  0.071577"
            ]
          },
          "metadata": {
            "tags": []
          },
          "execution_count": 96
        }
      ]
    },
    {
      "cell_type": "code",
      "metadata": {
        "id": "wxt6NOnNlWOh",
        "outputId": "0fdf301b-5b59-4bc8-c5d5-34f6180a5f13",
        "colab": {
          "base_uri": "https://localhost:8080/",
          "height": 225
        }
      },
      "source": [
        "data.columns = ['month', 'value']\n",
        "data.index = data.month\n",
        "data = data.drop('month', 1)\n",
        "data.head()"
      ],
      "execution_count": null,
      "outputs": [
        {
          "output_type": "execute_result",
          "data": {
            "text/html": [
              "<div>\n",
              "<style scoped>\n",
              "    .dataframe tbody tr th:only-of-type {\n",
              "        vertical-align: middle;\n",
              "    }\n",
              "\n",
              "    .dataframe tbody tr th {\n",
              "        vertical-align: top;\n",
              "    }\n",
              "\n",
              "    .dataframe thead th {\n",
              "        text-align: right;\n",
              "    }\n",
              "</style>\n",
              "<table border=\"1\" class=\"dataframe\">\n",
              "  <thead>\n",
              "    <tr style=\"text-align: right;\">\n",
              "      <th></th>\n",
              "      <th>value</th>\n",
              "    </tr>\n",
              "    <tr>\n",
              "      <th>month</th>\n",
              "      <th></th>\n",
              "    </tr>\n",
              "  </thead>\n",
              "  <tbody>\n",
              "    <tr>\n",
              "      <th>1950-01-01</th>\n",
              "      <td>-0.060310</td>\n",
              "    </tr>\n",
              "    <tr>\n",
              "      <th>1950-02-01</th>\n",
              "      <td>0.626810</td>\n",
              "    </tr>\n",
              "    <tr>\n",
              "      <th>1950-03-01</th>\n",
              "      <td>-0.008128</td>\n",
              "    </tr>\n",
              "    <tr>\n",
              "      <th>1950-04-01</th>\n",
              "      <td>0.555100</td>\n",
              "    </tr>\n",
              "    <tr>\n",
              "      <th>1950-05-01</th>\n",
              "      <td>0.071577</td>\n",
              "    </tr>\n",
              "  </tbody>\n",
              "</table>\n",
              "</div>"
            ],
            "text/plain": [
              "               value\n",
              "month               \n",
              "1950-01-01 -0.060310\n",
              "1950-02-01  0.626810\n",
              "1950-03-01 -0.008128\n",
              "1950-04-01  0.555100\n",
              "1950-05-01  0.071577"
            ]
          },
          "metadata": {
            "tags": []
          },
          "execution_count": 97
        }
      ]
    },
    {
      "cell_type": "code",
      "metadata": {
        "id": "cTdCDWTHlWVD",
        "outputId": "ce776e01-e21e-452f-bb27-1273323ac30d",
        "colab": {
          "base_uri": "https://localhost:8080/",
          "height": 1000
        }
      },
      "source": [
        "data['1950':'1952'] # the range of dates"
      ],
      "execution_count": null,
      "outputs": [
        {
          "output_type": "execute_result",
          "data": {
            "text/html": [
              "<div>\n",
              "<style scoped>\n",
              "    .dataframe tbody tr th:only-of-type {\n",
              "        vertical-align: middle;\n",
              "    }\n",
              "\n",
              "    .dataframe tbody tr th {\n",
              "        vertical-align: top;\n",
              "    }\n",
              "\n",
              "    .dataframe thead th {\n",
              "        text-align: right;\n",
              "    }\n",
              "</style>\n",
              "<table border=\"1\" class=\"dataframe\">\n",
              "  <thead>\n",
              "    <tr style=\"text-align: right;\">\n",
              "      <th></th>\n",
              "      <th>value</th>\n",
              "    </tr>\n",
              "    <tr>\n",
              "      <th>month</th>\n",
              "      <th></th>\n",
              "    </tr>\n",
              "  </thead>\n",
              "  <tbody>\n",
              "    <tr>\n",
              "      <th>1950-01-01</th>\n",
              "      <td>-0.060310</td>\n",
              "    </tr>\n",
              "    <tr>\n",
              "      <th>1950-02-01</th>\n",
              "      <td>0.626810</td>\n",
              "    </tr>\n",
              "    <tr>\n",
              "      <th>1950-03-01</th>\n",
              "      <td>-0.008128</td>\n",
              "    </tr>\n",
              "    <tr>\n",
              "      <th>1950-04-01</th>\n",
              "      <td>0.555100</td>\n",
              "    </tr>\n",
              "    <tr>\n",
              "      <th>1950-05-01</th>\n",
              "      <td>0.071577</td>\n",
              "    </tr>\n",
              "    <tr>\n",
              "      <th>1950-06-01</th>\n",
              "      <td>0.538570</td>\n",
              "    </tr>\n",
              "    <tr>\n",
              "      <th>1950-07-01</th>\n",
              "      <td>-0.802480</td>\n",
              "    </tr>\n",
              "    <tr>\n",
              "      <th>1950-08-01</th>\n",
              "      <td>-0.851010</td>\n",
              "    </tr>\n",
              "    <tr>\n",
              "      <th>1950-09-01</th>\n",
              "      <td>0.357970</td>\n",
              "    </tr>\n",
              "    <tr>\n",
              "      <th>1950-10-01</th>\n",
              "      <td>-0.378900</td>\n",
              "    </tr>\n",
              "    <tr>\n",
              "      <th>1950-11-01</th>\n",
              "      <td>-0.515110</td>\n",
              "    </tr>\n",
              "    <tr>\n",
              "      <th>1950-12-01</th>\n",
              "      <td>-1.928100</td>\n",
              "    </tr>\n",
              "    <tr>\n",
              "      <th>1951-01-01</th>\n",
              "      <td>-0.084969</td>\n",
              "    </tr>\n",
              "    <tr>\n",
              "      <th>1951-02-01</th>\n",
              "      <td>-0.399930</td>\n",
              "    </tr>\n",
              "    <tr>\n",
              "      <th>1951-03-01</th>\n",
              "      <td>-1.934100</td>\n",
              "    </tr>\n",
              "    <tr>\n",
              "      <th>1951-04-01</th>\n",
              "      <td>-0.776480</td>\n",
              "    </tr>\n",
              "    <tr>\n",
              "      <th>1951-05-01</th>\n",
              "      <td>-0.862780</td>\n",
              "    </tr>\n",
              "    <tr>\n",
              "      <th>1951-06-01</th>\n",
              "      <td>-0.917860</td>\n",
              "    </tr>\n",
              "    <tr>\n",
              "      <th>1951-07-01</th>\n",
              "      <td>0.090023</td>\n",
              "    </tr>\n",
              "    <tr>\n",
              "      <th>1951-08-01</th>\n",
              "      <td>-0.377410</td>\n",
              "    </tr>\n",
              "    <tr>\n",
              "      <th>1951-09-01</th>\n",
              "      <td>-0.817780</td>\n",
              "    </tr>\n",
              "    <tr>\n",
              "      <th>1951-10-01</th>\n",
              "      <td>-0.212910</td>\n",
              "    </tr>\n",
              "    <tr>\n",
              "      <th>1951-11-01</th>\n",
              "      <td>-0.068519</td>\n",
              "    </tr>\n",
              "    <tr>\n",
              "      <th>1951-12-01</th>\n",
              "      <td>1.987200</td>\n",
              "    </tr>\n",
              "    <tr>\n",
              "      <th>1952-01-01</th>\n",
              "      <td>0.368250</td>\n",
              "    </tr>\n",
              "    <tr>\n",
              "      <th>1952-02-01</th>\n",
              "      <td>-1.747200</td>\n",
              "    </tr>\n",
              "    <tr>\n",
              "      <th>1952-03-01</th>\n",
              "      <td>-1.859500</td>\n",
              "    </tr>\n",
              "    <tr>\n",
              "      <th>1952-04-01</th>\n",
              "      <td>0.538520</td>\n",
              "    </tr>\n",
              "    <tr>\n",
              "      <th>1952-05-01</th>\n",
              "      <td>-0.773510</td>\n",
              "    </tr>\n",
              "    <tr>\n",
              "      <th>1952-06-01</th>\n",
              "      <td>-0.440930</td>\n",
              "    </tr>\n",
              "    <tr>\n",
              "      <th>1952-07-01</th>\n",
              "      <td>0.383080</td>\n",
              "    </tr>\n",
              "    <tr>\n",
              "      <th>1952-08-01</th>\n",
              "      <td>-0.030367</td>\n",
              "    </tr>\n",
              "    <tr>\n",
              "      <th>1952-09-01</th>\n",
              "      <td>-0.383450</td>\n",
              "    </tr>\n",
              "    <tr>\n",
              "      <th>1952-10-01</th>\n",
              "      <td>-0.437170</td>\n",
              "    </tr>\n",
              "    <tr>\n",
              "      <th>1952-11-01</th>\n",
              "      <td>-1.890900</td>\n",
              "    </tr>\n",
              "    <tr>\n",
              "      <th>1952-12-01</th>\n",
              "      <td>-1.826700</td>\n",
              "    </tr>\n",
              "  </tbody>\n",
              "</table>\n",
              "</div>"
            ],
            "text/plain": [
              "               value\n",
              "month               \n",
              "1950-01-01 -0.060310\n",
              "1950-02-01  0.626810\n",
              "1950-03-01 -0.008128\n",
              "1950-04-01  0.555100\n",
              "1950-05-01  0.071577\n",
              "1950-06-01  0.538570\n",
              "1950-07-01 -0.802480\n",
              "1950-08-01 -0.851010\n",
              "1950-09-01  0.357970\n",
              "1950-10-01 -0.378900\n",
              "1950-11-01 -0.515110\n",
              "1950-12-01 -1.928100\n",
              "1951-01-01 -0.084969\n",
              "1951-02-01 -0.399930\n",
              "1951-03-01 -1.934100\n",
              "1951-04-01 -0.776480\n",
              "1951-05-01 -0.862780\n",
              "1951-06-01 -0.917860\n",
              "1951-07-01  0.090023\n",
              "1951-08-01 -0.377410\n",
              "1951-09-01 -0.817780\n",
              "1951-10-01 -0.212910\n",
              "1951-11-01 -0.068519\n",
              "1951-12-01  1.987200\n",
              "1952-01-01  0.368250\n",
              "1952-02-01 -1.747200\n",
              "1952-03-01 -1.859500\n",
              "1952-04-01  0.538520\n",
              "1952-05-01 -0.773510\n",
              "1952-06-01 -0.440930\n",
              "1952-07-01  0.383080\n",
              "1952-08-01 -0.030367\n",
              "1952-09-01 -0.383450\n",
              "1952-10-01 -0.437170\n",
              "1952-11-01 -1.890900\n",
              "1952-12-01 -1.826700"
            ]
          },
          "metadata": {
            "tags": []
          },
          "execution_count": 98
        }
      ]
    },
    {
      "cell_type": "code",
      "metadata": {
        "id": "Q1ot7b63lWZE",
        "outputId": "eb842c85-57fa-4d22-aa37-36a785d65720",
        "colab": {
          "base_uri": "https://localhost:8080/",
          "height": 34
        }
      },
      "source": [
        "# ?the empirical range of dates\n",
        "\n",
        "# ?visualize\n",
        "\n",
        "\n",
        "type(data.index)"
      ],
      "execution_count": null,
      "outputs": [
        {
          "output_type": "execute_result",
          "data": {
            "text/plain": [
              "pandas.core.indexes.datetimes.DatetimeIndex"
            ]
          },
          "metadata": {
            "tags": []
          },
          "execution_count": 99
        }
      ]
    },
    {
      "cell_type": "code",
      "metadata": {
        "id": "hImKxL3MlWbq",
        "outputId": "00a8bc63-37e4-4e14-ba7d-c32f0aa821de",
        "colab": {
          "base_uri": "https://localhost:8080/",
          "height": 77
        }
      },
      "source": [
        "data['1951-11-11':'1951-11-12']"
      ],
      "execution_count": null,
      "outputs": [
        {
          "output_type": "execute_result",
          "data": {
            "text/html": [
              "<div>\n",
              "<style scoped>\n",
              "    .dataframe tbody tr th:only-of-type {\n",
              "        vertical-align: middle;\n",
              "    }\n",
              "\n",
              "    .dataframe tbody tr th {\n",
              "        vertical-align: top;\n",
              "    }\n",
              "\n",
              "    .dataframe thead th {\n",
              "        text-align: right;\n",
              "    }\n",
              "</style>\n",
              "<table border=\"1\" class=\"dataframe\">\n",
              "  <thead>\n",
              "    <tr style=\"text-align: right;\">\n",
              "      <th></th>\n",
              "      <th>value</th>\n",
              "    </tr>\n",
              "    <tr>\n",
              "      <th>month</th>\n",
              "      <th></th>\n",
              "    </tr>\n",
              "  </thead>\n",
              "  <tbody>\n",
              "  </tbody>\n",
              "</table>\n",
              "</div>"
            ],
            "text/plain": [
              "Empty DataFrame\n",
              "Columns: [value]\n",
              "Index: []"
            ]
          },
          "metadata": {
            "tags": []
          },
          "execution_count": 100
        }
      ]
    },
    {
      "cell_type": "code",
      "metadata": {
        "id": "au1c163_mLRf",
        "outputId": "16916939-26e7-4cd6-95ba-8b75530fe937",
        "colab": {
          "base_uri": "https://localhost:8080/",
          "height": 431
        }
      },
      "source": [
        "data_pd = data.to_period() # a period index\n",
        "data_pd"
      ],
      "execution_count": null,
      "outputs": [
        {
          "output_type": "execute_result",
          "data": {
            "text/html": [
              "<div>\n",
              "<style scoped>\n",
              "    .dataframe tbody tr th:only-of-type {\n",
              "        vertical-align: middle;\n",
              "    }\n",
              "\n",
              "    .dataframe tbody tr th {\n",
              "        vertical-align: top;\n",
              "    }\n",
              "\n",
              "    .dataframe thead th {\n",
              "        text-align: right;\n",
              "    }\n",
              "</style>\n",
              "<table border=\"1\" class=\"dataframe\">\n",
              "  <thead>\n",
              "    <tr style=\"text-align: right;\">\n",
              "      <th></th>\n",
              "      <th>value</th>\n",
              "    </tr>\n",
              "    <tr>\n",
              "      <th>month</th>\n",
              "      <th></th>\n",
              "    </tr>\n",
              "  </thead>\n",
              "  <tbody>\n",
              "    <tr>\n",
              "      <th>1950-01</th>\n",
              "      <td>-0.060310</td>\n",
              "    </tr>\n",
              "    <tr>\n",
              "      <th>1950-02</th>\n",
              "      <td>0.626810</td>\n",
              "    </tr>\n",
              "    <tr>\n",
              "      <th>1950-03</th>\n",
              "      <td>-0.008128</td>\n",
              "    </tr>\n",
              "    <tr>\n",
              "      <th>1950-04</th>\n",
              "      <td>0.555100</td>\n",
              "    </tr>\n",
              "    <tr>\n",
              "      <th>1950-05</th>\n",
              "      <td>0.071577</td>\n",
              "    </tr>\n",
              "    <tr>\n",
              "      <th>...</th>\n",
              "      <td>...</td>\n",
              "    </tr>\n",
              "    <tr>\n",
              "      <th>2020-05</th>\n",
              "      <td>-0.027055</td>\n",
              "    </tr>\n",
              "    <tr>\n",
              "      <th>2020-06</th>\n",
              "      <td>-0.121800</td>\n",
              "    </tr>\n",
              "    <tr>\n",
              "      <th>2020-07</th>\n",
              "      <td>-0.411820</td>\n",
              "    </tr>\n",
              "    <tr>\n",
              "      <th>2020-08</th>\n",
              "      <td>-0.381170</td>\n",
              "    </tr>\n",
              "    <tr>\n",
              "      <th>2020-09</th>\n",
              "      <td>0.631420</td>\n",
              "    </tr>\n",
              "  </tbody>\n",
              "</table>\n",
              "<p>849 rows × 1 columns</p>\n",
              "</div>"
            ],
            "text/plain": [
              "            value\n",
              "month            \n",
              "1950-01 -0.060310\n",
              "1950-02  0.626810\n",
              "1950-03 -0.008128\n",
              "1950-04  0.555100\n",
              "1950-05  0.071577\n",
              "...           ...\n",
              "2020-05 -0.027055\n",
              "2020-06 -0.121800\n",
              "2020-07 -0.411820\n",
              "2020-08 -0.381170\n",
              "2020-09  0.631420\n",
              "\n",
              "[849 rows x 1 columns]"
            ]
          },
          "metadata": {
            "tags": []
          },
          "execution_count": 101
        }
      ]
    },
    {
      "cell_type": "code",
      "metadata": {
        "id": "_pPSl0P2mLU0",
        "outputId": "1ff33945-4ee9-478f-87bf-bc8c68e90085",
        "colab": {
          "base_uri": "https://localhost:8080/",
          "height": 106
        }
      },
      "source": [
        "data_pd['1951-11-11':'1951-11-12']"
      ],
      "execution_count": null,
      "outputs": [
        {
          "output_type": "execute_result",
          "data": {
            "text/html": [
              "<div>\n",
              "<style scoped>\n",
              "    .dataframe tbody tr th:only-of-type {\n",
              "        vertical-align: middle;\n",
              "    }\n",
              "\n",
              "    .dataframe tbody tr th {\n",
              "        vertical-align: top;\n",
              "    }\n",
              "\n",
              "    .dataframe thead th {\n",
              "        text-align: right;\n",
              "    }\n",
              "</style>\n",
              "<table border=\"1\" class=\"dataframe\">\n",
              "  <thead>\n",
              "    <tr style=\"text-align: right;\">\n",
              "      <th></th>\n",
              "      <th>value</th>\n",
              "    </tr>\n",
              "    <tr>\n",
              "      <th>month</th>\n",
              "      <th></th>\n",
              "    </tr>\n",
              "  </thead>\n",
              "  <tbody>\n",
              "    <tr>\n",
              "      <th>1951-11</th>\n",
              "      <td>-0.068519</td>\n",
              "    </tr>\n",
              "  </tbody>\n",
              "</table>\n",
              "</div>"
            ],
            "text/plain": [
              "            value\n",
              "month            \n",
              "1951-11 -0.068519"
            ]
          },
          "metadata": {
            "tags": []
          },
          "execution_count": 102
        }
      ]
    },
    {
      "cell_type": "code",
      "metadata": {
        "id": "qpdAL8q0mQcZ",
        "outputId": "8a05e81d-af39-41eb-9032-8d4bbd4b0761",
        "colab": {
          "base_uri": "https://localhost:8080/",
          "height": 166
        }
      },
      "source": [
        "data_pd['1951-11-11':'1952-01-12']"
      ],
      "execution_count": null,
      "outputs": [
        {
          "output_type": "execute_result",
          "data": {
            "text/html": [
              "<div>\n",
              "<style scoped>\n",
              "    .dataframe tbody tr th:only-of-type {\n",
              "        vertical-align: middle;\n",
              "    }\n",
              "\n",
              "    .dataframe tbody tr th {\n",
              "        vertical-align: top;\n",
              "    }\n",
              "\n",
              "    .dataframe thead th {\n",
              "        text-align: right;\n",
              "    }\n",
              "</style>\n",
              "<table border=\"1\" class=\"dataframe\">\n",
              "  <thead>\n",
              "    <tr style=\"text-align: right;\">\n",
              "      <th></th>\n",
              "      <th>value</th>\n",
              "    </tr>\n",
              "    <tr>\n",
              "      <th>month</th>\n",
              "      <th></th>\n",
              "    </tr>\n",
              "  </thead>\n",
              "  <tbody>\n",
              "    <tr>\n",
              "      <th>1951-11</th>\n",
              "      <td>-0.068519</td>\n",
              "    </tr>\n",
              "    <tr>\n",
              "      <th>1951-12</th>\n",
              "      <td>1.987200</td>\n",
              "    </tr>\n",
              "    <tr>\n",
              "      <th>1952-01</th>\n",
              "      <td>0.368250</td>\n",
              "    </tr>\n",
              "  </tbody>\n",
              "</table>\n",
              "</div>"
            ],
            "text/plain": [
              "            value\n",
              "month            \n",
              "1951-11 -0.068519\n",
              "1951-12  1.987200\n",
              "1952-01  0.368250"
            ]
          },
          "metadata": {
            "tags": []
          },
          "execution_count": 103
        }
      ]
    },
    {
      "cell_type": "markdown",
      "metadata": {
        "id": "aZH5IEB7MFh3"
      },
      "source": [
        "### various data loads"
      ]
    },
    {
      "cell_type": "code",
      "metadata": {
        "id": "Uy0S45L2mQi7",
        "outputId": "eab95f34-9a46-4544-d078-5e4c8558eb2e",
        "colab": {
          "base_uri": "https://localhost:8080/",
          "height": 50
        }
      },
      "source": [
        "print(\"infer_datetime_format = True, no date parser\")\n",
        "%timeit pd.read_fwf(\"http://www.cpc.ncep.noaa.gov/products/precip/CWlink/daily_ao_index/monthly.ao.index.b50.current.ascii\", parse_dates = [[0, 1]], infer_datetime_format = True, header = None,)"
      ],
      "execution_count": null,
      "outputs": [
        {
          "output_type": "stream",
          "text": [
            "infer_datetime_format = True, no date parser\n",
            "10 loops, best of 3: 141 ms per loop\n"
          ],
          "name": "stdout"
        }
      ]
    },
    {
      "cell_type": "code",
      "metadata": {
        "id": "fZglrhymmYil",
        "outputId": "fd2d808e-f487-48f6-ba0e-b86cf9dd32ff",
        "colab": {
          "base_uri": "https://localhost:8080/",
          "height": 50
        }
      },
      "source": [
        "print(\"infer_datetime_format = False, no date parser\")\n",
        "%timeit pd.read_fwf(\"http://www.cpc.ncep.noaa.gov/products/precip/CWlink/daily_ao_index/monthly.ao.index.b50.current.ascii\", parse_dates = [[0, 1]], infer_datetime_format = False, header = None,)"
      ],
      "execution_count": null,
      "outputs": [
        {
          "output_type": "stream",
          "text": [
            "infer_datetime_format = False, no date parser\n",
            "10 loops, best of 3: 141 ms per loop\n"
          ],
          "name": "stdout"
        }
      ]
    },
    {
      "cell_type": "code",
      "metadata": {
        "id": "F0ky2dUwmYli",
        "outputId": "15d55560-2aa5-4b53-8b64-22f0af6ffa1e",
        "colab": {
          "base_uri": "https://localhost:8080/",
          "height": 104
        }
      },
      "source": [
        "print(\"infer_datetime_format = True, date parser provided\")\n",
        "dateparse = lambda x, y: pd.datetime.strptime('%s-%s'%(x,y), '%Y-%m')\n",
        "%timeit pd.read_fwf(\"http://www.cpc.ncep.noaa.gov/products/precip/CWlink/daily_ao_index/monthly.ao.index.b50.current.ascii\", parse_dates = [[0, 1]], infer_datetime_format = True, date_parser = dateparse,  header = None,)"
      ],
      "execution_count": null,
      "outputs": [
        {
          "output_type": "stream",
          "text": [
            "infer_datetime_format = True, date parser provided\n"
          ],
          "name": "stdout"
        },
        {
          "output_type": "stream",
          "text": [
            "/usr/local/lib/python3.6/dist-packages/ipykernel_launcher.py:2: FutureWarning: The pandas.datetime class is deprecated and will be removed from pandas in a future version. Import from datetime instead.\n",
            "  \n"
          ],
          "name": "stderr"
        },
        {
          "output_type": "stream",
          "text": [
            "10 loops, best of 3: 158 ms per loop\n"
          ],
          "name": "stdout"
        }
      ]
    },
    {
      "cell_type": "code",
      "metadata": {
        "id": "bkepdXtOmYoS",
        "outputId": "7fcff547-c224-4d66-f0a4-0fcb8abd0d92",
        "colab": {
          "base_uri": "https://localhost:8080/",
          "height": 104
        }
      },
      "source": [
        "print(\"infer_datetime_format = False, date parser provided\")\n",
        "dateparse = lambda x, y: pd.datetime.strptime('%s-%s'%(x,y), '%Y-%m')\n",
        "%timeit pd.read_fwf(\"http://www.cpc.ncep.noaa.gov/products/precip/CWlink/daily_ao_index/monthly.ao.index.b50.current.ascii\", parse_dates = [[0, 1]], infer_datetime_format = False, date_parser = dateparse,  header = None,)"
      ],
      "execution_count": null,
      "outputs": [
        {
          "output_type": "stream",
          "text": [
            "infer_datetime_format = False, date parser provided\n"
          ],
          "name": "stdout"
        },
        {
          "output_type": "stream",
          "text": [
            "/usr/local/lib/python3.6/dist-packages/ipykernel_launcher.py:2: FutureWarning: The pandas.datetime class is deprecated and will be removed from pandas in a future version. Import from datetime instead.\n",
            "  \n"
          ],
          "name": "stderr"
        },
        {
          "output_type": "stream",
          "text": [
            "10 loops, best of 3: 154 ms per loop\n"
          ],
          "name": "stdout"
        }
      ]
    },
    {
      "cell_type": "markdown",
      "metadata": {
        "id": "tgw4YQjWMXjI"
      },
      "source": [
        "### already have the data frame and want to parse columns"
      ]
    },
    {
      "cell_type": "code",
      "metadata": {
        "id": "_plIKMWPmY8L",
        "outputId": "76863a7e-04f6-46fb-ddc9-d034d47e696e",
        "colab": {
          "base_uri": "https://localhost:8080/",
          "height": 106
        }
      },
      "source": [
        "df = pd.DataFrame({'year': [2015, 2016],'month': [2, 3],'day': [4, 5],'hour': [2, 3]})\n",
        "df"
      ],
      "execution_count": null,
      "outputs": [
        {
          "output_type": "execute_result",
          "data": {
            "text/html": [
              "<div>\n",
              "<style scoped>\n",
              "    .dataframe tbody tr th:only-of-type {\n",
              "        vertical-align: middle;\n",
              "    }\n",
              "\n",
              "    .dataframe tbody tr th {\n",
              "        vertical-align: top;\n",
              "    }\n",
              "\n",
              "    .dataframe thead th {\n",
              "        text-align: right;\n",
              "    }\n",
              "</style>\n",
              "<table border=\"1\" class=\"dataframe\">\n",
              "  <thead>\n",
              "    <tr style=\"text-align: right;\">\n",
              "      <th></th>\n",
              "      <th>year</th>\n",
              "      <th>month</th>\n",
              "      <th>day</th>\n",
              "      <th>hour</th>\n",
              "    </tr>\n",
              "  </thead>\n",
              "  <tbody>\n",
              "    <tr>\n",
              "      <th>0</th>\n",
              "      <td>2015</td>\n",
              "      <td>2</td>\n",
              "      <td>4</td>\n",
              "      <td>2</td>\n",
              "    </tr>\n",
              "    <tr>\n",
              "      <th>1</th>\n",
              "      <td>2016</td>\n",
              "      <td>3</td>\n",
              "      <td>5</td>\n",
              "      <td>3</td>\n",
              "    </tr>\n",
              "  </tbody>\n",
              "</table>\n",
              "</div>"
            ],
            "text/plain": [
              "   year  month  day  hour\n",
              "0  2015      2    4     2\n",
              "1  2016      3    5     3"
            ]
          },
          "metadata": {
            "tags": []
          },
          "execution_count": 72
        }
      ]
    },
    {
      "cell_type": "code",
      "metadata": {
        "id": "8znkeLB8ml5n",
        "outputId": "5ab45b49-fd86-4ca9-ca83-d65d1ed850c1",
        "colab": {
          "base_uri": "https://localhost:8080/",
          "height": 67
        }
      },
      "source": [
        "pd.to_datetime(df)"
      ],
      "execution_count": null,
      "outputs": [
        {
          "output_type": "execute_result",
          "data": {
            "text/plain": [
              "0   2015-02-04 02:00:00\n",
              "1   2016-03-05 03:00:00\n",
              "dtype: datetime64[ns]"
            ]
          },
          "metadata": {
            "tags": []
          },
          "execution_count": 73
        }
      ]
    },
    {
      "cell_type": "code",
      "metadata": {
        "id": "eNd_R4HXiuN9",
        "outputId": "c297731b-f1aa-487a-e1cc-11af8150ae66",
        "colab": {
          "base_uri": "https://localhost:8080/",
          "height": 67
        }
      },
      "source": [
        "pd.to_datetime(df[['year', 'month', 'day']])"
      ],
      "execution_count": null,
      "outputs": [
        {
          "output_type": "execute_result",
          "data": {
            "text/plain": [
              "0   2015-02-04\n",
              "1   2016-03-05\n",
              "dtype: datetime64[ns]"
            ]
          },
          "metadata": {
            "tags": []
          },
          "execution_count": 74
        }
      ]
    },
    {
      "cell_type": "markdown",
      "metadata": {
        "id": "4xPZlNefN3bn"
      },
      "source": [
        "[To get your own time series data, load it in, and see what you can see](http://pandas.pydata.org/pandas-docs/stable/remote_data.html)\n",
        "\n",
        "1. plot \n",
        "2. get range of dates \n",
        "3. convert between time and period index"
      ]
    },
    {
      "cell_type": "code",
      "metadata": {
        "id": "R0s39pLblD_1",
        "outputId": "1c337d6d-cae0-48c7-b025-d33eeee223a8",
        "colab": {
          "base_uri": "https://localhost:8080/",
          "height": 84
        }
      },
      "source": [
        "ts = pd.Series(range(10), index = pd.date_range('7/31/2015', freq = 'M', periods = 10)) # truncate convenience function\n",
        "ts.truncate(before='10/31/2015', after='12/31/2015')"
      ],
      "execution_count": null,
      "outputs": [
        {
          "output_type": "execute_result",
          "data": {
            "text/plain": [
              "2015-10-31    3\n",
              "2015-11-30    4\n",
              "2015-12-31    5\n",
              "Freq: M, dtype: int64"
            ]
          },
          "metadata": {
            "tags": []
          },
          "execution_count": 75
        }
      ]
    },
    {
      "cell_type": "code",
      "metadata": {
        "id": "DzZUCfiElD5A",
        "outputId": "ae5c0610-1d49-4e67-982b-43f028d7bc06",
        "colab": {
          "base_uri": "https://localhost:8080/",
          "height": 34
        }
      },
      "source": [
        "ts[[0, 2, 6]].index # truncate in a way that breaks frequency"
      ],
      "execution_count": null,
      "outputs": [
        {
          "output_type": "execute_result",
          "data": {
            "text/plain": [
              "DatetimeIndex(['2015-07-31', '2015-09-30', '2016-01-31'], dtype='datetime64[ns]', freq=None)"
            ]
          },
          "metadata": {
            "tags": []
          },
          "execution_count": 76
        }
      ]
    },
    {
      "cell_type": "markdown",
      "metadata": {
        "id": "jIfqZVYakElq"
      },
      "source": [
        "# 4. Resampling"
      ]
    },
    {
      "cell_type": "code",
      "metadata": {
        "id": "WkOeIEQvmw-P"
      },
      "source": [
        "rng = pd.date_range('1/1/2011', periods=72, freq='H')\n",
        "ts = pd.Series(np.random.randn(len(rng)), index=rng)"
      ],
      "execution_count": null,
      "outputs": []
    },
    {
      "cell_type": "code",
      "metadata": {
        "id": "DxC1-N4smxL3",
        "outputId": "25469d2e-0412-44ca-ad1c-d35597a61f4d",
        "colab": {
          "base_uri": "https://localhost:8080/",
          "height": 218
        }
      },
      "source": [
        "converted = ts.asfreq('45Min', method='pad')\n",
        "converted "
      ],
      "execution_count": null,
      "outputs": [
        {
          "output_type": "execute_result",
          "data": {
            "text/plain": [
              "2011-01-01 00:00:00    1.306015\n",
              "2011-01-01 00:45:00    1.306015\n",
              "2011-01-01 01:30:00    0.651316\n",
              "2011-01-01 02:15:00   -1.239611\n",
              "2011-01-01 03:00:00    0.227937\n",
              "                         ...   \n",
              "2011-01-03 19:30:00    0.347187\n",
              "2011-01-03 20:15:00   -0.206290\n",
              "2011-01-03 21:00:00    0.640607\n",
              "2011-01-03 21:45:00    0.640607\n",
              "2011-01-03 22:30:00    1.654701\n",
              "Freq: 45T, Length: 95, dtype: float64"
            ]
          },
          "metadata": {
            "tags": []
          },
          "execution_count": 107
        }
      ]
    },
    {
      "cell_type": "markdown",
      "metadata": {
        "id": "_u7QxVsEO9R5"
      },
      "source": [
        "Does ```asfreq``` change the # of rows?\n",
        "\n",
        "different methods : {‘backfill’, ‘bfill’, ‘pad’, ‘ffill’, None}\n",
        "\n",
        " Might any of these methods have pitfalls from a logical point of view?\n",
        "\n",
        "What's the difference between going to a higher frequency and a lower frequency?"
      ]
    },
    {
      "cell_type": "code",
      "metadata": {
        "id": "imaOHt7EmxPP",
        "outputId": "306bdb35-1752-4c00-c4c1-f702b0670e5a",
        "colab": {
          "base_uri": "https://localhost:8080/",
          "height": 840
        }
      },
      "source": [
        "converted = ts.asfreq('90Min', method = 'bfill')\n",
        "converted "
      ],
      "execution_count": null,
      "outputs": [
        {
          "output_type": "execute_result",
          "data": {
            "text/plain": [
              "2011-01-01 00:00:00    1.306015\n",
              "2011-01-01 01:30:00   -1.239611\n",
              "2011-01-01 03:00:00    0.227937\n",
              "2011-01-01 04:30:00   -1.360044\n",
              "2011-01-01 06:00:00    1.612312\n",
              "2011-01-01 07:30:00    1.126650\n",
              "2011-01-01 09:00:00   -0.332976\n",
              "2011-01-01 10:30:00   -0.262672\n",
              "2011-01-01 12:00:00    1.263511\n",
              "2011-01-01 13:30:00   -0.320728\n",
              "2011-01-01 15:00:00   -0.231056\n",
              "2011-01-01 16:30:00   -0.473676\n",
              "2011-01-01 18:00:00   -0.431423\n",
              "2011-01-01 19:30:00   -1.258667\n",
              "2011-01-01 21:00:00    0.590661\n",
              "2011-01-01 22:30:00   -0.045003\n",
              "2011-01-02 00:00:00    0.945894\n",
              "2011-01-02 01:30:00    0.496870\n",
              "2011-01-02 03:00:00    0.613074\n",
              "2011-01-02 04:30:00    0.224664\n",
              "2011-01-02 06:00:00   -0.422294\n",
              "2011-01-02 07:30:00    0.064792\n",
              "2011-01-02 09:00:00   -0.308277\n",
              "2011-01-02 10:30:00    0.118639\n",
              "2011-01-02 12:00:00   -0.763523\n",
              "2011-01-02 13:30:00   -0.593053\n",
              "2011-01-02 15:00:00   -0.489882\n",
              "2011-01-02 16:30:00   -0.955651\n",
              "2011-01-02 18:00:00    0.835187\n",
              "2011-01-02 19:30:00    0.549855\n",
              "2011-01-02 21:00:00    0.010503\n",
              "2011-01-02 22:30:00   -0.494160\n",
              "2011-01-03 00:00:00    1.603920\n",
              "2011-01-03 01:30:00    0.817297\n",
              "2011-01-03 03:00:00   -0.412518\n",
              "2011-01-03 04:30:00   -0.636709\n",
              "2011-01-03 06:00:00    1.312314\n",
              "2011-01-03 07:30:00   -0.975456\n",
              "2011-01-03 09:00:00    0.374182\n",
              "2011-01-03 10:30:00   -1.196841\n",
              "2011-01-03 12:00:00   -1.643032\n",
              "2011-01-03 13:30:00    0.362099\n",
              "2011-01-03 15:00:00    1.044636\n",
              "2011-01-03 16:30:00    1.476864\n",
              "2011-01-03 18:00:00   -0.551262\n",
              "2011-01-03 19:30:00   -0.206290\n",
              "2011-01-03 21:00:00    0.640607\n",
              "2011-01-03 22:30:00   -0.047495\n",
              "Freq: 90T, dtype: float64"
            ]
          },
          "metadata": {
            "tags": []
          },
          "execution_count": 109
        }
      ]
    },
    {
      "cell_type": "markdown",
      "metadata": {
        "id": "YzHXaQPxPTL5"
      },
      "source": [
        "What's different logically about going to a higher frequency vs a lower frequency? \n",
        "\n",
        "What do you want to do when switching to a lower freqeuncy that is not logical when switching to a higher frequency?"
      ]
    },
    {
      "cell_type": "code",
      "metadata": {
        "id": "7V9e7qeUiuN-",
        "outputId": "f3a078e5-d327-4d64-b1b2-b98c26071261",
        "colab": {
          "base_uri": "https://localhost:8080/",
          "height": 84
        }
      },
      "source": [
        "ts.resample('D').sum()"
      ],
      "execution_count": null,
      "outputs": [
        {
          "output_type": "execute_result",
          "data": {
            "text/plain": [
              "2011-01-01    1.829627\n",
              "2011-01-02    3.420279\n",
              "2011-01-03   -4.699662\n",
              "Freq: D, dtype: float64"
            ]
          },
          "metadata": {
            "tags": []
          },
          "execution_count": 85
        }
      ]
    },
    {
      "cell_type": "markdown",
      "metadata": {
        "id": "eV7NWddHPcuo"
      },
      "source": [
        " What if you want to downsample and you don't want to ```ffill``` or ```bfill```?\n",
        "\n",
        " What is the difference between ```.resample()``` and ```.asfreq()```?\n",
        "\n",
        "What are some special things you can do with ```.resample()``` you can't do with ```.asfreq()```?\n"
      ]
    },
    {
      "cell_type": "markdown",
      "metadata": {
        "id": "zIVlI1bBkXx5"
      },
      "source": [
        "# 5. Moving Window Functions\n",
        "\n",
        "### Window functions are like aggregation functions\n",
        "\n",
        "\n",
        "You can use them in conjunction with ```.resample()``` which will soon be a deferred operation\n"
      ]
    },
    {
      "cell_type": "code",
      "metadata": {
        "id": "7kI1G3TGm9lO",
        "outputId": "37358243-352c-4eeb-c532-ce1ca9264d1f",
        "colab": {
          "base_uri": "https://localhost:8080/",
          "height": 195
        }
      },
      "source": [
        "df = pd.DataFrame(np.random.randn(600, 3), index = pd.date_range('7/1/2016', freq = 'S', periods = 600), columns = ['A', 'B', 'C'])\n",
        "df.head()"
      ],
      "execution_count": null,
      "outputs": [
        {
          "output_type": "execute_result",
          "data": {
            "text/html": [
              "<div>\n",
              "<style scoped>\n",
              "    .dataframe tbody tr th:only-of-type {\n",
              "        vertical-align: middle;\n",
              "    }\n",
              "\n",
              "    .dataframe tbody tr th {\n",
              "        vertical-align: top;\n",
              "    }\n",
              "\n",
              "    .dataframe thead th {\n",
              "        text-align: right;\n",
              "    }\n",
              "</style>\n",
              "<table border=\"1\" class=\"dataframe\">\n",
              "  <thead>\n",
              "    <tr style=\"text-align: right;\">\n",
              "      <th></th>\n",
              "      <th>A</th>\n",
              "      <th>B</th>\n",
              "      <th>C</th>\n",
              "    </tr>\n",
              "  </thead>\n",
              "  <tbody>\n",
              "    <tr>\n",
              "      <th>2016-07-01 00:00:00</th>\n",
              "      <td>-0.856902</td>\n",
              "      <td>0.357436</td>\n",
              "      <td>-0.811409</td>\n",
              "    </tr>\n",
              "    <tr>\n",
              "      <th>2016-07-01 00:00:01</th>\n",
              "      <td>0.197360</td>\n",
              "      <td>0.076208</td>\n",
              "      <td>0.650243</td>\n",
              "    </tr>\n",
              "    <tr>\n",
              "      <th>2016-07-01 00:00:02</th>\n",
              "      <td>-0.442275</td>\n",
              "      <td>-0.982491</td>\n",
              "      <td>0.224638</td>\n",
              "    </tr>\n",
              "    <tr>\n",
              "      <th>2016-07-01 00:00:03</th>\n",
              "      <td>-0.677867</td>\n",
              "      <td>-0.396579</td>\n",
              "      <td>0.463378</td>\n",
              "    </tr>\n",
              "    <tr>\n",
              "      <th>2016-07-01 00:00:04</th>\n",
              "      <td>1.491610</td>\n",
              "      <td>0.088416</td>\n",
              "      <td>-0.923034</td>\n",
              "    </tr>\n",
              "  </tbody>\n",
              "</table>\n",
              "</div>"
            ],
            "text/plain": [
              "                            A         B         C\n",
              "2016-07-01 00:00:00 -0.856902  0.357436 -0.811409\n",
              "2016-07-01 00:00:01  0.197360  0.076208  0.650243\n",
              "2016-07-01 00:00:02 -0.442275 -0.982491  0.224638\n",
              "2016-07-01 00:00:03 -0.677867 -0.396579  0.463378\n",
              "2016-07-01 00:00:04  1.491610  0.088416 -0.923034"
            ]
          },
          "metadata": {
            "tags": []
          },
          "execution_count": 111
        }
      ]
    },
    {
      "cell_type": "code",
      "metadata": {
        "id": "Z_z1kFN3m9ok",
        "outputId": "e4acda0a-adaa-4260-c8b1-906a59951386",
        "colab": {
          "base_uri": "https://localhost:8080/",
          "height": 554
        }
      },
      "source": [
        "#pd.rolling_mean(df, window = 2)[1:10] # in future versions you want to resample separately\n",
        "r = df.rolling(window = 10)\n",
        "#r.agg, r.apply, r.count, r.exclusions, r.max, r.median, r.name, r.quantile, r.kurt, r.cov, r.corr, r.aggregate, r.std, r.skew, r.sum, r.var\n",
        "df.plot(style = 'k--')\n",
        "r.mean().plot(style = 'k')"
      ],
      "execution_count": null,
      "outputs": [
        {
          "output_type": "execute_result",
          "data": {
            "text/plain": [
              "<matplotlib.axes._subplots.AxesSubplot at 0x7fad16130630>"
            ]
          },
          "metadata": {
            "tags": []
          },
          "execution_count": 112
        },
        {
          "output_type": "display_data",
          "data": {
            "image/png": "[encoded data removed]",
            "text/plain": [
              "<Figure size 432x288 with 1 Axes>"
            ]
          },
          "metadata": {
            "tags": [],
            "needs_background": "light"
          }
        },
        {
          "output_type": "display_data",
          "data": {
            "image/png": "[encoded data removed]",
            "text/plain": [
              "<Figure size 432x288 with 1 Axes>"
            ]
          },
          "metadata": {
            "tags": [],
            "needs_background": "light"
          }
        }
      ]
    },
    {
      "cell_type": "code",
      "metadata": {
        "id": "TDSDgmX0nFj5"
      },
      "source": [
        "pd.ewma(df, span = 15, min_periods = 2)[1:10] #exponentially weighted"
      ],
      "execution_count": null,
      "outputs": []
    },
    {
      "cell_type": "code",
      "metadata": {
        "id": "9yaV-lYTnFve",
        "outputId": "c391dd5e-7efd-4971-f0e9-10251cfea5e9",
        "colab": {
          "base_uri": "https://localhost:8080/",
          "height": 195
        }
      },
      "source": [
        "df = pd.DataFrame(np.random.randn(1000, 4), index = pd.date_range('6/6/16', periods = 1000), columns = ['A', 'B', 'C', 'D']) # plot a rolling average per column\n",
        "df.head()"
      ],
      "execution_count": null,
      "outputs": [
        {
          "output_type": "execute_result",
          "data": {
            "text/html": [
              "<div>\n",
              "<style scoped>\n",
              "    .dataframe tbody tr th:only-of-type {\n",
              "        vertical-align: middle;\n",
              "    }\n",
              "\n",
              "    .dataframe tbody tr th {\n",
              "        vertical-align: top;\n",
              "    }\n",
              "\n",
              "    .dataframe thead th {\n",
              "        text-align: right;\n",
              "    }\n",
              "</style>\n",
              "<table border=\"1\" class=\"dataframe\">\n",
              "  <thead>\n",
              "    <tr style=\"text-align: right;\">\n",
              "      <th></th>\n",
              "      <th>A</th>\n",
              "      <th>B</th>\n",
              "      <th>C</th>\n",
              "      <th>D</th>\n",
              "    </tr>\n",
              "  </thead>\n",
              "  <tbody>\n",
              "    <tr>\n",
              "      <th>2016-06-06</th>\n",
              "      <td>-0.550677</td>\n",
              "      <td>-0.799710</td>\n",
              "      <td>-0.756205</td>\n",
              "      <td>1.289021</td>\n",
              "    </tr>\n",
              "    <tr>\n",
              "      <th>2016-06-07</th>\n",
              "      <td>0.727326</td>\n",
              "      <td>-0.242248</td>\n",
              "      <td>0.336750</td>\n",
              "      <td>-0.447278</td>\n",
              "    </tr>\n",
              "    <tr>\n",
              "      <th>2016-06-08</th>\n",
              "      <td>-0.181398</td>\n",
              "      <td>-0.294034</td>\n",
              "      <td>-0.849502</td>\n",
              "      <td>0.991810</td>\n",
              "    </tr>\n",
              "    <tr>\n",
              "      <th>2016-06-09</th>\n",
              "      <td>0.003624</td>\n",
              "      <td>-1.541650</td>\n",
              "      <td>-0.820736</td>\n",
              "      <td>-0.126030</td>\n",
              "    </tr>\n",
              "    <tr>\n",
              "      <th>2016-06-10</th>\n",
              "      <td>-1.240472</td>\n",
              "      <td>0.161594</td>\n",
              "      <td>0.064091</td>\n",
              "      <td>0.453236</td>\n",
              "    </tr>\n",
              "  </tbody>\n",
              "</table>\n",
              "</div>"
            ],
            "text/plain": [
              "                   A         B         C         D\n",
              "2016-06-06 -0.550677 -0.799710 -0.756205  1.289021\n",
              "2016-06-07  0.727326 -0.242248  0.336750 -0.447278\n",
              "2016-06-08 -0.181398 -0.294034 -0.849502  0.991810\n",
              "2016-06-09  0.003624 -1.541650 -0.820736 -0.126030\n",
              "2016-06-10 -1.240472  0.161594  0.064091  0.453236"
            ]
          },
          "metadata": {
            "tags": []
          },
          "execution_count": 115
        }
      ]
    },
    {
      "cell_type": "code",
      "metadata": {
        "id": "ReyNq7qMnLwa",
        "outputId": "c371ea5b-0c24-47cb-8b26-79525e2355ed",
        "colab": {
          "base_uri": "https://localhost:8080/",
          "height": 352
        }
      },
      "source": [
        "df = df.cumsum()\n",
        "df.rolling(window = 50).sum().plot(subplots=True)"
      ],
      "execution_count": null,
      "outputs": [
        {
          "output_type": "execute_result",
          "data": {
            "text/plain": [
              "array([<matplotlib.axes._subplots.AxesSubplot object at 0x7fad15758d30>,\n",
              "       <matplotlib.axes._subplots.AxesSubplot object at 0x7fad15527908>,\n",
              "       <matplotlib.axes._subplots.AxesSubplot object at 0x7fad154d9908>,\n",
              "       <matplotlib.axes._subplots.AxesSubplot object at 0x7fad1548c908>],\n",
              "      dtype=object)"
            ]
          },
          "metadata": {
            "tags": []
          },
          "execution_count": 116
        },
        {
          "output_type": "display_data",
          "data": {
            "image/png": "[encoded data removed]",
            "text/plain": [
              "<Figure size 432x288 with 4 Axes>"
            ]
          },
          "metadata": {
            "tags": [],
            "needs_background": "light"
          }
        }
      ]
    },
    {
      "cell_type": "markdown",
      "metadata": {
        "id": "5NmF4njknQS4"
      },
      "source": [
        "df.rolling(window = 10).apply(lambda x: np.fabs(x - x.mean()).mean()) # a custom function"
      ]
    },
    {
      "cell_type": "code",
      "metadata": {
        "id": "pNQBW6vHnQdL",
        "outputId": "cd964f04-aa8d-49b8-c1c9-9a29eb7d58c6",
        "colab": {
          "base_uri": "https://localhost:8080/",
          "height": 166
        }
      },
      "source": [
        "df.expanding(min_periods = 1).mean()[1:5] # Expanding windows # Yields the value of the statistic with all the data available up to that point in time"
      ],
      "execution_count": null,
      "outputs": [
        {
          "output_type": "execute_result",
          "data": {
            "text/html": [
              "<div>\n",
              "<style scoped>\n",
              "    .dataframe tbody tr th:only-of-type {\n",
              "        vertical-align: middle;\n",
              "    }\n",
              "\n",
              "    .dataframe tbody tr th {\n",
              "        vertical-align: top;\n",
              "    }\n",
              "\n",
              "    .dataframe thead th {\n",
              "        text-align: right;\n",
              "    }\n",
              "</style>\n",
              "<table border=\"1\" class=\"dataframe\">\n",
              "  <thead>\n",
              "    <tr style=\"text-align: right;\">\n",
              "      <th></th>\n",
              "      <th>A</th>\n",
              "      <th>B</th>\n",
              "      <th>C</th>\n",
              "      <th>D</th>\n",
              "    </tr>\n",
              "  </thead>\n",
              "  <tbody>\n",
              "    <tr>\n",
              "      <th>2016-06-07</th>\n",
              "      <td>-0.187014</td>\n",
              "      <td>-0.920834</td>\n",
              "      <td>-0.587830</td>\n",
              "      <td>1.065382</td>\n",
              "    </tr>\n",
              "    <tr>\n",
              "      <th>2016-06-08</th>\n",
              "      <td>-0.126259</td>\n",
              "      <td>-1.059220</td>\n",
              "      <td>-0.814872</td>\n",
              "      <td>1.321439</td>\n",
              "    </tr>\n",
              "    <tr>\n",
              "      <th>2016-06-09</th>\n",
              "      <td>-0.094975</td>\n",
              "      <td>-1.513825</td>\n",
              "      <td>-1.133577</td>\n",
              "      <td>1.417960</td>\n",
              "    </tr>\n",
              "    <tr>\n",
              "      <th>2016-06-10</th>\n",
              "      <td>-0.324300</td>\n",
              "      <td>-1.754269</td>\n",
              "      <td>-1.311982</td>\n",
              "      <td>1.566519</td>\n",
              "    </tr>\n",
              "  </tbody>\n",
              "</table>\n",
              "</div>"
            ],
            "text/plain": [
              "                   A         B         C         D\n",
              "2016-06-07 -0.187014 -0.920834 -0.587830  1.065382\n",
              "2016-06-08 -0.126259 -1.059220 -0.814872  1.321439\n",
              "2016-06-09 -0.094975 -1.513825 -1.133577  1.417960\n",
              "2016-06-10 -0.324300 -1.754269 -1.311982  1.566519"
            ]
          },
          "metadata": {
            "tags": []
          },
          "execution_count": 118
        }
      ]
    },
    {
      "cell_type": "markdown",
      "metadata": {
        "id": "-nFAgHevUC_3"
      },
      "source": [
        "Will an expanding window provide a more or less stable statistic than a rolling statistic? \n",
        "\n",
        "When might one vs. the other be appropriate?\n",
        "\n",
        "[EWMA](pandas.pydata.org/pandas-docs/stable/computation.html#stats-aggregate\n",
        ")\n",
        "\n",
        "Why use EWMA?\n",
        "\n",
        "Come up with a series that shows how EWMA and Rolling can importantly differ even with the same window setting"
      ]
    }
  ]
}